{
  "nbformat": 4,
  "nbformat_minor": 0,
  "metadata": {
    "colab": {
      "provenance": []
    },
    "kernelspec": {
      "name": "python3",
      "display_name": "Python 3"
    },
    "language_info": {
      "name": "python"
    }
  },
  "cells": [
    {
      "cell_type": "code",
      "execution_count": 1,
      "metadata": {
        "id": "SD_DAnLnGkBx"
      },
      "outputs": [],
      "source": [
        "import numpy as np\n",
        "import pandas as pd \n",
        "\n",
        "# for visualizations\n",
        "import matplotlib.pyplot as plt\n",
        "import seaborn as sns"
      ]
    },
    {
      "cell_type": "code",
      "source": [
        "df = pd.read_csv('/content/Data.csv')"
      ],
      "metadata": {
        "id": "05g15L7UIgkN"
      },
      "execution_count": 2,
      "outputs": []
    },
    {
      "cell_type": "code",
      "source": [
        "df.head()"
      ],
      "metadata": {
        "colab": {
          "base_uri": "https://localhost:8080/",
          "height": 403
        },
        "id": "yCqjTygcJpeq",
        "outputId": "faeb8bee-a5f1-498f-a09e-f8296cde5623"
      },
      "execution_count": 3,
      "outputs": [
        {
          "output_type": "execute_result",
          "data": {
            "text/plain": [
              "   Unnamed: 0      ID               Name  Age  \\\n",
              "0           0  158023           L. Messi   31   \n",
              "1           1   20801  Cristiano Ronaldo   33   \n",
              "2           2  190871          Neymar Jr   26   \n",
              "3           3  193080             De Gea   27   \n",
              "4           4  192985       K. De Bruyne   27   \n",
              "\n",
              "                                            Photo Nationality  \\\n",
              "0  https://cdn.sofifa.org/players/4/19/158023.png   Argentina   \n",
              "1   https://cdn.sofifa.org/players/4/19/20801.png    Portugal   \n",
              "2  https://cdn.sofifa.org/players/4/19/190871.png      Brazil   \n",
              "3  https://cdn.sofifa.org/players/4/19/193080.png       Spain   \n",
              "4  https://cdn.sofifa.org/players/4/19/192985.png     Belgium   \n",
              "\n",
              "                                  Flag  Overall  Potential  \\\n",
              "0  https://cdn.sofifa.org/flags/52.png       94         94   \n",
              "1  https://cdn.sofifa.org/flags/38.png       94         94   \n",
              "2  https://cdn.sofifa.org/flags/54.png       92         93   \n",
              "3  https://cdn.sofifa.org/flags/45.png       91         93   \n",
              "4   https://cdn.sofifa.org/flags/7.png       91         92   \n",
              "\n",
              "                  Club  ... Composure Marking StandingTackle  SlidingTackle  \\\n",
              "0         FC Barcelona  ...      96.0    33.0           28.0           26.0   \n",
              "1             Juventus  ...      95.0    28.0           31.0           23.0   \n",
              "2  Paris Saint-Germain  ...      94.0    27.0           24.0           33.0   \n",
              "3    Manchester United  ...      68.0    15.0           21.0           13.0   \n",
              "4      Manchester City  ...      88.0    68.0           58.0           51.0   \n",
              "\n",
              "  GKDiving  GKHandling  GKKicking  GKPositioning GKReflexes Release Clause  \n",
              "0      6.0        11.0       15.0           14.0        8.0        €226.5M  \n",
              "1      7.0        11.0       15.0           14.0       11.0        €127.1M  \n",
              "2      9.0         9.0       15.0           15.0       11.0        €228.1M  \n",
              "3     90.0        85.0       87.0           88.0       94.0        €138.6M  \n",
              "4     15.0        13.0        5.0           10.0       13.0        €196.4M  \n",
              "\n",
              "[5 rows x 89 columns]"
            ],
            "text/html": [
              "\n",
              "  <div id=\"df-7424cb75-7b69-4837-b2f9-ae917713f42f\">\n",
              "    <div class=\"colab-df-container\">\n",
              "      <div>\n",
              "<style scoped>\n",
              "    .dataframe tbody tr th:only-of-type {\n",
              "        vertical-align: middle;\n",
              "    }\n",
              "\n",
              "    .dataframe tbody tr th {\n",
              "        vertical-align: top;\n",
              "    }\n",
              "\n",
              "    .dataframe thead th {\n",
              "        text-align: right;\n",
              "    }\n",
              "</style>\n",
              "<table border=\"1\" class=\"dataframe\">\n",
              "  <thead>\n",
              "    <tr style=\"text-align: right;\">\n",
              "      <th></th>\n",
              "      <th>Unnamed: 0</th>\n",
              "      <th>ID</th>\n",
              "      <th>Name</th>\n",
              "      <th>Age</th>\n",
              "      <th>Photo</th>\n",
              "      <th>Nationality</th>\n",
              "      <th>Flag</th>\n",
              "      <th>Overall</th>\n",
              "      <th>Potential</th>\n",
              "      <th>Club</th>\n",
              "      <th>...</th>\n",
              "      <th>Composure</th>\n",
              "      <th>Marking</th>\n",
              "      <th>StandingTackle</th>\n",
              "      <th>SlidingTackle</th>\n",
              "      <th>GKDiving</th>\n",
              "      <th>GKHandling</th>\n",
              "      <th>GKKicking</th>\n",
              "      <th>GKPositioning</th>\n",
              "      <th>GKReflexes</th>\n",
              "      <th>Release Clause</th>\n",
              "    </tr>\n",
              "  </thead>\n",
              "  <tbody>\n",
              "    <tr>\n",
              "      <th>0</th>\n",
              "      <td>0</td>\n",
              "      <td>158023</td>\n",
              "      <td>L. Messi</td>\n",
              "      <td>31</td>\n",
              "      <td>https://cdn.sofifa.org/players/4/19/158023.png</td>\n",
              "      <td>Argentina</td>\n",
              "      <td>https://cdn.sofifa.org/flags/52.png</td>\n",
              "      <td>94</td>\n",
              "      <td>94</td>\n",
              "      <td>FC Barcelona</td>\n",
              "      <td>...</td>\n",
              "      <td>96.0</td>\n",
              "      <td>33.0</td>\n",
              "      <td>28.0</td>\n",
              "      <td>26.0</td>\n",
              "      <td>6.0</td>\n",
              "      <td>11.0</td>\n",
              "      <td>15.0</td>\n",
              "      <td>14.0</td>\n",
              "      <td>8.0</td>\n",
              "      <td>€226.5M</td>\n",
              "    </tr>\n",
              "    <tr>\n",
              "      <th>1</th>\n",
              "      <td>1</td>\n",
              "      <td>20801</td>\n",
              "      <td>Cristiano Ronaldo</td>\n",
              "      <td>33</td>\n",
              "      <td>https://cdn.sofifa.org/players/4/19/20801.png</td>\n",
              "      <td>Portugal</td>\n",
              "      <td>https://cdn.sofifa.org/flags/38.png</td>\n",
              "      <td>94</td>\n",
              "      <td>94</td>\n",
              "      <td>Juventus</td>\n",
              "      <td>...</td>\n",
              "      <td>95.0</td>\n",
              "      <td>28.0</td>\n",
              "      <td>31.0</td>\n",
              "      <td>23.0</td>\n",
              "      <td>7.0</td>\n",
              "      <td>11.0</td>\n",
              "      <td>15.0</td>\n",
              "      <td>14.0</td>\n",
              "      <td>11.0</td>\n",
              "      <td>€127.1M</td>\n",
              "    </tr>\n",
              "    <tr>\n",
              "      <th>2</th>\n",
              "      <td>2</td>\n",
              "      <td>190871</td>\n",
              "      <td>Neymar Jr</td>\n",
              "      <td>26</td>\n",
              "      <td>https://cdn.sofifa.org/players/4/19/190871.png</td>\n",
              "      <td>Brazil</td>\n",
              "      <td>https://cdn.sofifa.org/flags/54.png</td>\n",
              "      <td>92</td>\n",
              "      <td>93</td>\n",
              "      <td>Paris Saint-Germain</td>\n",
              "      <td>...</td>\n",
              "      <td>94.0</td>\n",
              "      <td>27.0</td>\n",
              "      <td>24.0</td>\n",
              "      <td>33.0</td>\n",
              "      <td>9.0</td>\n",
              "      <td>9.0</td>\n",
              "      <td>15.0</td>\n",
              "      <td>15.0</td>\n",
              "      <td>11.0</td>\n",
              "      <td>€228.1M</td>\n",
              "    </tr>\n",
              "    <tr>\n",
              "      <th>3</th>\n",
              "      <td>3</td>\n",
              "      <td>193080</td>\n",
              "      <td>De Gea</td>\n",
              "      <td>27</td>\n",
              "      <td>https://cdn.sofifa.org/players/4/19/193080.png</td>\n",
              "      <td>Spain</td>\n",
              "      <td>https://cdn.sofifa.org/flags/45.png</td>\n",
              "      <td>91</td>\n",
              "      <td>93</td>\n",
              "      <td>Manchester United</td>\n",
              "      <td>...</td>\n",
              "      <td>68.0</td>\n",
              "      <td>15.0</td>\n",
              "      <td>21.0</td>\n",
              "      <td>13.0</td>\n",
              "      <td>90.0</td>\n",
              "      <td>85.0</td>\n",
              "      <td>87.0</td>\n",
              "      <td>88.0</td>\n",
              "      <td>94.0</td>\n",
              "      <td>€138.6M</td>\n",
              "    </tr>\n",
              "    <tr>\n",
              "      <th>4</th>\n",
              "      <td>4</td>\n",
              "      <td>192985</td>\n",
              "      <td>K. De Bruyne</td>\n",
              "      <td>27</td>\n",
              "      <td>https://cdn.sofifa.org/players/4/19/192985.png</td>\n",
              "      <td>Belgium</td>\n",
              "      <td>https://cdn.sofifa.org/flags/7.png</td>\n",
              "      <td>91</td>\n",
              "      <td>92</td>\n",
              "      <td>Manchester City</td>\n",
              "      <td>...</td>\n",
              "      <td>88.0</td>\n",
              "      <td>68.0</td>\n",
              "      <td>58.0</td>\n",
              "      <td>51.0</td>\n",
              "      <td>15.0</td>\n",
              "      <td>13.0</td>\n",
              "      <td>5.0</td>\n",
              "      <td>10.0</td>\n",
              "      <td>13.0</td>\n",
              "      <td>€196.4M</td>\n",
              "    </tr>\n",
              "  </tbody>\n",
              "</table>\n",
              "<p>5 rows × 89 columns</p>\n",
              "</div>\n",
              "      <button class=\"colab-df-convert\" onclick=\"convertToInteractive('df-7424cb75-7b69-4837-b2f9-ae917713f42f')\"\n",
              "              title=\"Convert this dataframe to an interactive table.\"\n",
              "              style=\"display:none;\">\n",
              "        \n",
              "  <svg xmlns=\"http://www.w3.org/2000/svg\" height=\"24px\"viewBox=\"0 0 24 24\"\n",
              "       width=\"24px\">\n",
              "    <path d=\"M0 0h24v24H0V0z\" fill=\"none\"/>\n",
              "    <path d=\"M18.56 5.44l.94 2.06.94-2.06 2.06-.94-2.06-.94-.94-2.06-.94 2.06-2.06.94zm-11 1L8.5 8.5l.94-2.06 2.06-.94-2.06-.94L8.5 2.5l-.94 2.06-2.06.94zm10 10l.94 2.06.94-2.06 2.06-.94-2.06-.94-.94-2.06-.94 2.06-2.06.94z\"/><path d=\"M17.41 7.96l-1.37-1.37c-.4-.4-.92-.59-1.43-.59-.52 0-1.04.2-1.43.59L10.3 9.45l-7.72 7.72c-.78.78-.78 2.05 0 2.83L4 21.41c.39.39.9.59 1.41.59.51 0 1.02-.2 1.41-.59l7.78-7.78 2.81-2.81c.8-.78.8-2.07 0-2.86zM5.41 20L4 18.59l7.72-7.72 1.47 1.35L5.41 20z\"/>\n",
              "  </svg>\n",
              "      </button>\n",
              "      \n",
              "  <style>\n",
              "    .colab-df-container {\n",
              "      display:flex;\n",
              "      flex-wrap:wrap;\n",
              "      gap: 12px;\n",
              "    }\n",
              "\n",
              "    .colab-df-convert {\n",
              "      background-color: #E8F0FE;\n",
              "      border: none;\n",
              "      border-radius: 50%;\n",
              "      cursor: pointer;\n",
              "      display: none;\n",
              "      fill: #1967D2;\n",
              "      height: 32px;\n",
              "      padding: 0 0 0 0;\n",
              "      width: 32px;\n",
              "    }\n",
              "\n",
              "    .colab-df-convert:hover {\n",
              "      background-color: #E2EBFA;\n",
              "      box-shadow: 0px 1px 2px rgba(60, 64, 67, 0.3), 0px 1px 3px 1px rgba(60, 64, 67, 0.15);\n",
              "      fill: #174EA6;\n",
              "    }\n",
              "\n",
              "    [theme=dark] .colab-df-convert {\n",
              "      background-color: #3B4455;\n",
              "      fill: #D2E3FC;\n",
              "    }\n",
              "\n",
              "    [theme=dark] .colab-df-convert:hover {\n",
              "      background-color: #434B5C;\n",
              "      box-shadow: 0px 1px 3px 1px rgba(0, 0, 0, 0.15);\n",
              "      filter: drop-shadow(0px 1px 2px rgba(0, 0, 0, 0.3));\n",
              "      fill: #FFFFFF;\n",
              "    }\n",
              "  </style>\n",
              "\n",
              "      <script>\n",
              "        const buttonEl =\n",
              "          document.querySelector('#df-7424cb75-7b69-4837-b2f9-ae917713f42f button.colab-df-convert');\n",
              "        buttonEl.style.display =\n",
              "          google.colab.kernel.accessAllowed ? 'block' : 'none';\n",
              "\n",
              "        async function convertToInteractive(key) {\n",
              "          const element = document.querySelector('#df-7424cb75-7b69-4837-b2f9-ae917713f42f');\n",
              "          const dataTable =\n",
              "            await google.colab.kernel.invokeFunction('convertToInteractive',\n",
              "                                                     [key], {});\n",
              "          if (!dataTable) return;\n",
              "\n",
              "          const docLinkHtml = 'Like what you see? Visit the ' +\n",
              "            '<a target=\"_blank\" href=https://colab.research.google.com/notebooks/data_table.ipynb>data table notebook</a>'\n",
              "            + ' to learn more about interactive tables.';\n",
              "          element.innerHTML = '';\n",
              "          dataTable['output_type'] = 'display_data';\n",
              "          await google.colab.output.renderOutput(dataTable, element);\n",
              "          const docLink = document.createElement('div');\n",
              "          docLink.innerHTML = docLinkHtml;\n",
              "          element.appendChild(docLink);\n",
              "        }\n",
              "      </script>\n",
              "    </div>\n",
              "  </div>\n",
              "  "
            ]
          },
          "metadata": {},
          "execution_count": 3
        }
      ]
    },
    {
      "cell_type": "code",
      "source": [
        "df.shape"
      ],
      "metadata": {
        "colab": {
          "base_uri": "https://localhost:8080/"
        },
        "id": "2I0HTwIyJrqk",
        "outputId": "712d0412-6b24-4a9a-f714-3d8786091535"
      },
      "execution_count": 4,
      "outputs": [
        {
          "output_type": "execute_result",
          "data": {
            "text/plain": [
              "(18207, 89)"
            ]
          },
          "metadata": {},
          "execution_count": 4
        }
      ]
    },
    {
      "cell_type": "markdown",
      "source": [
        "## Indian Footballers"
      ],
      "metadata": {
        "id": "cda4yK7MJ5MK"
      }
    },
    {
      "cell_type": "code",
      "source": [
        "def country(x):\n",
        "    return df[df['Nationality'] == x][['Name','Overall','Potential','Position']]\n",
        "\n",
        "\n",
        "country('India')"
      ],
      "metadata": {
        "colab": {
          "base_uri": "https://localhost:8080/",
          "height": 990
        },
        "id": "LMETOeGNJxAe",
        "outputId": "687d176f-c15a-4f05-df74-63f517e1c21c"
      },
      "execution_count": 5,
      "outputs": [
        {
          "output_type": "execute_result",
          "data": {
            "text/plain": [
              "                  Name  Overall  Potential Position\n",
              "8605        S. Chhetri       67         67       LS\n",
              "10011       S. Jhingan       65         71      RCB\n",
              "12598    J. Lalpekhlua       63         64       RS\n",
              "12811  G. Singh Sandhu       63         68       GK\n",
              "13508    A. Edathodika       62         62      LCB\n",
              "14054        P. Halder       61         67      RCM\n",
              "14199         P. Kotal       61         66       RB\n",
              "14218         L. Ralte       61         62       LW\n",
              "14705           N. Das       60         65       LB\n",
              "14786         U. Singh       60         67       RM\n",
              "14915       H. Narzary       60         66       LM\n",
              "15356         R. Singh       59         59       ST\n",
              "15643         S. Singh       59         65       CB\n",
              "15652         A. Thapa       59         71      LCM\n",
              "15855       M. Rafique       58         61       CM\n",
              "15864         A. Singh       58         62       GK\n",
              "15884         B. Singh       58         58       ST\n",
              "16135          S. Bose       58         66       LB\n",
              "16265        R. Borges       58         60      CDM\n",
              "16450          S. Paul       57         57      NaN\n",
              "16499        A. Mondal       57         57       CB\n",
              "16539  L. Lalruatthara       57         63      NaN\n",
              "16793       E. Lyngdoh       56         56      NaN\n",
              "16903   J. Lalrinzuala       56         64       LB\n",
              "16976     A. Kuruniyan       56         70       LW\n",
              "17129         J. Singh       55         58      NaN\n",
              "17197         V. Kaith       55         64       GK\n",
              "17339         S. Passi       54         63      NaN\n",
              "17436   D. Lalhlimpuia       54         67      NaN\n",
              "17539         C. Singh       53         62      NaN"
            ],
            "text/html": [
              "\n",
              "  <div id=\"df-b90ad308-5d7e-4229-90d8-fd8d6fa5d28a\">\n",
              "    <div class=\"colab-df-container\">\n",
              "      <div>\n",
              "<style scoped>\n",
              "    .dataframe tbody tr th:only-of-type {\n",
              "        vertical-align: middle;\n",
              "    }\n",
              "\n",
              "    .dataframe tbody tr th {\n",
              "        vertical-align: top;\n",
              "    }\n",
              "\n",
              "    .dataframe thead th {\n",
              "        text-align: right;\n",
              "    }\n",
              "</style>\n",
              "<table border=\"1\" class=\"dataframe\">\n",
              "  <thead>\n",
              "    <tr style=\"text-align: right;\">\n",
              "      <th></th>\n",
              "      <th>Name</th>\n",
              "      <th>Overall</th>\n",
              "      <th>Potential</th>\n",
              "      <th>Position</th>\n",
              "    </tr>\n",
              "  </thead>\n",
              "  <tbody>\n",
              "    <tr>\n",
              "      <th>8605</th>\n",
              "      <td>S. Chhetri</td>\n",
              "      <td>67</td>\n",
              "      <td>67</td>\n",
              "      <td>LS</td>\n",
              "    </tr>\n",
              "    <tr>\n",
              "      <th>10011</th>\n",
              "      <td>S. Jhingan</td>\n",
              "      <td>65</td>\n",
              "      <td>71</td>\n",
              "      <td>RCB</td>\n",
              "    </tr>\n",
              "    <tr>\n",
              "      <th>12598</th>\n",
              "      <td>J. Lalpekhlua</td>\n",
              "      <td>63</td>\n",
              "      <td>64</td>\n",
              "      <td>RS</td>\n",
              "    </tr>\n",
              "    <tr>\n",
              "      <th>12811</th>\n",
              "      <td>G. Singh Sandhu</td>\n",
              "      <td>63</td>\n",
              "      <td>68</td>\n",
              "      <td>GK</td>\n",
              "    </tr>\n",
              "    <tr>\n",
              "      <th>13508</th>\n",
              "      <td>A. Edathodika</td>\n",
              "      <td>62</td>\n",
              "      <td>62</td>\n",
              "      <td>LCB</td>\n",
              "    </tr>\n",
              "    <tr>\n",
              "      <th>14054</th>\n",
              "      <td>P. Halder</td>\n",
              "      <td>61</td>\n",
              "      <td>67</td>\n",
              "      <td>RCM</td>\n",
              "    </tr>\n",
              "    <tr>\n",
              "      <th>14199</th>\n",
              "      <td>P. Kotal</td>\n",
              "      <td>61</td>\n",
              "      <td>66</td>\n",
              "      <td>RB</td>\n",
              "    </tr>\n",
              "    <tr>\n",
              "      <th>14218</th>\n",
              "      <td>L. Ralte</td>\n",
              "      <td>61</td>\n",
              "      <td>62</td>\n",
              "      <td>LW</td>\n",
              "    </tr>\n",
              "    <tr>\n",
              "      <th>14705</th>\n",
              "      <td>N. Das</td>\n",
              "      <td>60</td>\n",
              "      <td>65</td>\n",
              "      <td>LB</td>\n",
              "    </tr>\n",
              "    <tr>\n",
              "      <th>14786</th>\n",
              "      <td>U. Singh</td>\n",
              "      <td>60</td>\n",
              "      <td>67</td>\n",
              "      <td>RM</td>\n",
              "    </tr>\n",
              "    <tr>\n",
              "      <th>14915</th>\n",
              "      <td>H. Narzary</td>\n",
              "      <td>60</td>\n",
              "      <td>66</td>\n",
              "      <td>LM</td>\n",
              "    </tr>\n",
              "    <tr>\n",
              "      <th>15356</th>\n",
              "      <td>R. Singh</td>\n",
              "      <td>59</td>\n",
              "      <td>59</td>\n",
              "      <td>ST</td>\n",
              "    </tr>\n",
              "    <tr>\n",
              "      <th>15643</th>\n",
              "      <td>S. Singh</td>\n",
              "      <td>59</td>\n",
              "      <td>65</td>\n",
              "      <td>CB</td>\n",
              "    </tr>\n",
              "    <tr>\n",
              "      <th>15652</th>\n",
              "      <td>A. Thapa</td>\n",
              "      <td>59</td>\n",
              "      <td>71</td>\n",
              "      <td>LCM</td>\n",
              "    </tr>\n",
              "    <tr>\n",
              "      <th>15855</th>\n",
              "      <td>M. Rafique</td>\n",
              "      <td>58</td>\n",
              "      <td>61</td>\n",
              "      <td>CM</td>\n",
              "    </tr>\n",
              "    <tr>\n",
              "      <th>15864</th>\n",
              "      <td>A. Singh</td>\n",
              "      <td>58</td>\n",
              "      <td>62</td>\n",
              "      <td>GK</td>\n",
              "    </tr>\n",
              "    <tr>\n",
              "      <th>15884</th>\n",
              "      <td>B. Singh</td>\n",
              "      <td>58</td>\n",
              "      <td>58</td>\n",
              "      <td>ST</td>\n",
              "    </tr>\n",
              "    <tr>\n",
              "      <th>16135</th>\n",
              "      <td>S. Bose</td>\n",
              "      <td>58</td>\n",
              "      <td>66</td>\n",
              "      <td>LB</td>\n",
              "    </tr>\n",
              "    <tr>\n",
              "      <th>16265</th>\n",
              "      <td>R. Borges</td>\n",
              "      <td>58</td>\n",
              "      <td>60</td>\n",
              "      <td>CDM</td>\n",
              "    </tr>\n",
              "    <tr>\n",
              "      <th>16450</th>\n",
              "      <td>S. Paul</td>\n",
              "      <td>57</td>\n",
              "      <td>57</td>\n",
              "      <td>NaN</td>\n",
              "    </tr>\n",
              "    <tr>\n",
              "      <th>16499</th>\n",
              "      <td>A. Mondal</td>\n",
              "      <td>57</td>\n",
              "      <td>57</td>\n",
              "      <td>CB</td>\n",
              "    </tr>\n",
              "    <tr>\n",
              "      <th>16539</th>\n",
              "      <td>L. Lalruatthara</td>\n",
              "      <td>57</td>\n",
              "      <td>63</td>\n",
              "      <td>NaN</td>\n",
              "    </tr>\n",
              "    <tr>\n",
              "      <th>16793</th>\n",
              "      <td>E. Lyngdoh</td>\n",
              "      <td>56</td>\n",
              "      <td>56</td>\n",
              "      <td>NaN</td>\n",
              "    </tr>\n",
              "    <tr>\n",
              "      <th>16903</th>\n",
              "      <td>J. Lalrinzuala</td>\n",
              "      <td>56</td>\n",
              "      <td>64</td>\n",
              "      <td>LB</td>\n",
              "    </tr>\n",
              "    <tr>\n",
              "      <th>16976</th>\n",
              "      <td>A. Kuruniyan</td>\n",
              "      <td>56</td>\n",
              "      <td>70</td>\n",
              "      <td>LW</td>\n",
              "    </tr>\n",
              "    <tr>\n",
              "      <th>17129</th>\n",
              "      <td>J. Singh</td>\n",
              "      <td>55</td>\n",
              "      <td>58</td>\n",
              "      <td>NaN</td>\n",
              "    </tr>\n",
              "    <tr>\n",
              "      <th>17197</th>\n",
              "      <td>V. Kaith</td>\n",
              "      <td>55</td>\n",
              "      <td>64</td>\n",
              "      <td>GK</td>\n",
              "    </tr>\n",
              "    <tr>\n",
              "      <th>17339</th>\n",
              "      <td>S. Passi</td>\n",
              "      <td>54</td>\n",
              "      <td>63</td>\n",
              "      <td>NaN</td>\n",
              "    </tr>\n",
              "    <tr>\n",
              "      <th>17436</th>\n",
              "      <td>D. Lalhlimpuia</td>\n",
              "      <td>54</td>\n",
              "      <td>67</td>\n",
              "      <td>NaN</td>\n",
              "    </tr>\n",
              "    <tr>\n",
              "      <th>17539</th>\n",
              "      <td>C. Singh</td>\n",
              "      <td>53</td>\n",
              "      <td>62</td>\n",
              "      <td>NaN</td>\n",
              "    </tr>\n",
              "  </tbody>\n",
              "</table>\n",
              "</div>\n",
              "      <button class=\"colab-df-convert\" onclick=\"convertToInteractive('df-b90ad308-5d7e-4229-90d8-fd8d6fa5d28a')\"\n",
              "              title=\"Convert this dataframe to an interactive table.\"\n",
              "              style=\"display:none;\">\n",
              "        \n",
              "  <svg xmlns=\"http://www.w3.org/2000/svg\" height=\"24px\"viewBox=\"0 0 24 24\"\n",
              "       width=\"24px\">\n",
              "    <path d=\"M0 0h24v24H0V0z\" fill=\"none\"/>\n",
              "    <path d=\"M18.56 5.44l.94 2.06.94-2.06 2.06-.94-2.06-.94-.94-2.06-.94 2.06-2.06.94zm-11 1L8.5 8.5l.94-2.06 2.06-.94-2.06-.94L8.5 2.5l-.94 2.06-2.06.94zm10 10l.94 2.06.94-2.06 2.06-.94-2.06-.94-.94-2.06-.94 2.06-2.06.94z\"/><path d=\"M17.41 7.96l-1.37-1.37c-.4-.4-.92-.59-1.43-.59-.52 0-1.04.2-1.43.59L10.3 9.45l-7.72 7.72c-.78.78-.78 2.05 0 2.83L4 21.41c.39.39.9.59 1.41.59.51 0 1.02-.2 1.41-.59l7.78-7.78 2.81-2.81c.8-.78.8-2.07 0-2.86zM5.41 20L4 18.59l7.72-7.72 1.47 1.35L5.41 20z\"/>\n",
              "  </svg>\n",
              "      </button>\n",
              "      \n",
              "  <style>\n",
              "    .colab-df-container {\n",
              "      display:flex;\n",
              "      flex-wrap:wrap;\n",
              "      gap: 12px;\n",
              "    }\n",
              "\n",
              "    .colab-df-convert {\n",
              "      background-color: #E8F0FE;\n",
              "      border: none;\n",
              "      border-radius: 50%;\n",
              "      cursor: pointer;\n",
              "      display: none;\n",
              "      fill: #1967D2;\n",
              "      height: 32px;\n",
              "      padding: 0 0 0 0;\n",
              "      width: 32px;\n",
              "    }\n",
              "\n",
              "    .colab-df-convert:hover {\n",
              "      background-color: #E2EBFA;\n",
              "      box-shadow: 0px 1px 2px rgba(60, 64, 67, 0.3), 0px 1px 3px 1px rgba(60, 64, 67, 0.15);\n",
              "      fill: #174EA6;\n",
              "    }\n",
              "\n",
              "    [theme=dark] .colab-df-convert {\n",
              "      background-color: #3B4455;\n",
              "      fill: #D2E3FC;\n",
              "    }\n",
              "\n",
              "    [theme=dark] .colab-df-convert:hover {\n",
              "      background-color: #434B5C;\n",
              "      box-shadow: 0px 1px 3px 1px rgba(0, 0, 0, 0.15);\n",
              "      filter: drop-shadow(0px 1px 2px rgba(0, 0, 0, 0.3));\n",
              "      fill: #FFFFFF;\n",
              "    }\n",
              "  </style>\n",
              "\n",
              "      <script>\n",
              "        const buttonEl =\n",
              "          document.querySelector('#df-b90ad308-5d7e-4229-90d8-fd8d6fa5d28a button.colab-df-convert');\n",
              "        buttonEl.style.display =\n",
              "          google.colab.kernel.accessAllowed ? 'block' : 'none';\n",
              "\n",
              "        async function convertToInteractive(key) {\n",
              "          const element = document.querySelector('#df-b90ad308-5d7e-4229-90d8-fd8d6fa5d28a');\n",
              "          const dataTable =\n",
              "            await google.colab.kernel.invokeFunction('convertToInteractive',\n",
              "                                                     [key], {});\n",
              "          if (!dataTable) return;\n",
              "\n",
              "          const docLinkHtml = 'Like what you see? Visit the ' +\n",
              "            '<a target=\"_blank\" href=https://colab.research.google.com/notebooks/data_table.ipynb>data table notebook</a>'\n",
              "            + ' to learn more about interactive tables.';\n",
              "          element.innerHTML = '';\n",
              "          dataTable['output_type'] = 'display_data';\n",
              "          await google.colab.output.renderOutput(dataTable, element);\n",
              "          const docLink = document.createElement('div');\n",
              "          docLink.innerHTML = docLinkHtml;\n",
              "          element.appendChild(docLink);\n",
              "        }\n",
              "      </script>\n",
              "    </div>\n",
              "  </div>\n",
              "  "
            ]
          },
          "metadata": {},
          "execution_count": 5
        }
      ]
    },
    {
      "cell_type": "markdown",
      "source": [
        "## Manchester United"
      ],
      "metadata": {
        "id": "Mm1IvhKDKUul"
      }
    },
    {
      "cell_type": "code",
      "source": [
        "def club(x):\n",
        "    return df[df['Club'] == x][['Name','Jersey Number','Position','Overall','Nationality','Age','Wage',\n",
        "                                    'Value','Contract Valid Until']]\n",
        "\n",
        "club('Manchester United')"
      ],
      "metadata": {
        "colab": {
          "base_uri": "https://localhost:8080/",
          "height": 1000
        },
        "id": "KiylXM91KP7v",
        "outputId": "c5c3abcd-8cc3-47ad-dd0d-5a1e59b3ef7f"
      },
      "execution_count": 6,
      "outputs": [
        {
          "output_type": "execute_result",
          "data": {
            "text/plain": [
              "                  Name  Jersey Number Position  Overall  Nationality  Age  \\\n",
              "3               De Gea            1.0       GK       91        Spain   27   \n",
              "45            P. Pogba            6.0      RDM       87       France   25   \n",
              "47           R. Lukaku            9.0       ST       87      Belgium   25   \n",
              "93          A. Sánchez            7.0       RW       85        Chile   29   \n",
              "116         A. Martial           11.0       LW       84       France   22   \n",
              "132           N. Matić           31.0      CDM       84       Serbia   29   \n",
              "211          Juan Mata            8.0       RM       83        Spain   30   \n",
              "250               Fred           17.0       CM       82       Brazil   25   \n",
              "254         J. Lingard            7.0      CAM       82      England   25   \n",
              "319        M. Rashford           11.0       LW       81      England   20   \n",
              "327          E. Bailly            2.0       CB       81  Ivory Coast   24   \n",
              "374      Ander Herrera           21.0       CM       81        Spain   28   \n",
              "377        C. Smalling           12.0      RCB       81      England   28   \n",
              "399        A. Valencia           16.0       RM       81      Ecuador   32   \n",
              "454            L. Shaw           23.0       LB       80      England   22   \n",
              "526          S. Romero            1.0       GK       80    Argentina   31   \n",
              "584        V. Lindelöf            3.0       CB       79       Sweden   23   \n",
              "629            M. Rojo           16.0       CB       79    Argentina   28   \n",
              "654           P. Jones            4.0       CB       79      England   26   \n",
              "700        M. Fellaini            8.0       CM       79      Belgium   30   \n",
              "717           A. Young           18.0       LB       79      England   32   \n",
              "807    Andreas Pereira           15.0       CM       78       Brazil   22   \n",
              "1313        M. Darmian           36.0       LB       76        Italy   28   \n",
              "2561          L. Grant           13.0       GK       74      England   35   \n",
              "3451       Diogo Dalot           20.0       RB       72     Portugal   19   \n",
              "4513      S. McTominay           17.0       CM       71     Scotland   21   \n",
              "8191          A. Gomes           47.0      CAM       67      England   17   \n",
              "10087         T. Chong           44.0       RW       65  Netherlands   18   \n",
              "10457      E. Hamilton           48.0       CM       65     Scotland   19   \n",
              "10461       C. Gribbin           42.0      CAM       65      England   19   \n",
              "11081         R. Poole           50.0       CB       64        Wales   20   \n",
              "11422      R. Williams           52.0       CB       64      England   19   \n",
              "12545         J. Bohui           46.0       ST       63      England   19   \n",
              "\n",
              "        Wage   Value Contract Valid Until  \n",
              "3      €260K    €72M                 2020  \n",
              "45     €210K    €64M                 2021  \n",
              "47     €230K  €62.5M                 2022  \n",
              "93     €215K  €37.5M                 2022  \n",
              "116    €165K  €42.5M                 2019  \n",
              "132    €165K    €24M                 2020  \n",
              "211    €160K  €24.5M                 2019  \n",
              "250    €140K  €26.5M                 2023  \n",
              "254    €140K  €26.5M                 2021  \n",
              "319    €110K    €27M                 2020  \n",
              "327    €105K    €21M                 2020  \n",
              "374    €140K  €17.5M                 2019  \n",
              "377    €130K    €16M                 2019  \n",
              "399    €120K    €10M                 2019  \n",
              "454     €96K  €16.5M                 2023  \n",
              "526     €91K     €9M                 2021  \n",
              "584     €91K  €14.5M                 2021  \n",
              "629    €115K    €10M                 2021  \n",
              "654    €110K    €12M                 2019  \n",
              "700    €120K  €11.5M                 2020  \n",
              "717    €110K     €7M                 2019  \n",
              "807     €91K    €14M                 2019  \n",
              "1313    €88K     €6M                 2019  \n",
              "2561    €39K   €1.3M                 2020  \n",
              "3451    €26K   €4.7M                 2023  \n",
              "4513    €43K   €3.8M                 2021  \n",
              "8191    €15K   €1.5M                 2021  \n",
              "10087   €13K   €1.1M                 2019  \n",
              "10457   €11K     €1M                 2020  \n",
              "10461   €11K   €1.2M                 2019  \n",
              "11081   €13K   €675K                 2019  \n",
              "11422    €8K   €875K                 2019  \n",
              "12545   €10K   €700K                 2019  "
            ],
            "text/html": [
              "\n",
              "  <div id=\"df-49097838-97db-4965-8786-b85b1d22a914\">\n",
              "    <div class=\"colab-df-container\">\n",
              "      <div>\n",
              "<style scoped>\n",
              "    .dataframe tbody tr th:only-of-type {\n",
              "        vertical-align: middle;\n",
              "    }\n",
              "\n",
              "    .dataframe tbody tr th {\n",
              "        vertical-align: top;\n",
              "    }\n",
              "\n",
              "    .dataframe thead th {\n",
              "        text-align: right;\n",
              "    }\n",
              "</style>\n",
              "<table border=\"1\" class=\"dataframe\">\n",
              "  <thead>\n",
              "    <tr style=\"text-align: right;\">\n",
              "      <th></th>\n",
              "      <th>Name</th>\n",
              "      <th>Jersey Number</th>\n",
              "      <th>Position</th>\n",
              "      <th>Overall</th>\n",
              "      <th>Nationality</th>\n",
              "      <th>Age</th>\n",
              "      <th>Wage</th>\n",
              "      <th>Value</th>\n",
              "      <th>Contract Valid Until</th>\n",
              "    </tr>\n",
              "  </thead>\n",
              "  <tbody>\n",
              "    <tr>\n",
              "      <th>3</th>\n",
              "      <td>De Gea</td>\n",
              "      <td>1.0</td>\n",
              "      <td>GK</td>\n",
              "      <td>91</td>\n",
              "      <td>Spain</td>\n",
              "      <td>27</td>\n",
              "      <td>€260K</td>\n",
              "      <td>€72M</td>\n",
              "      <td>2020</td>\n",
              "    </tr>\n",
              "    <tr>\n",
              "      <th>45</th>\n",
              "      <td>P. Pogba</td>\n",
              "      <td>6.0</td>\n",
              "      <td>RDM</td>\n",
              "      <td>87</td>\n",
              "      <td>France</td>\n",
              "      <td>25</td>\n",
              "      <td>€210K</td>\n",
              "      <td>€64M</td>\n",
              "      <td>2021</td>\n",
              "    </tr>\n",
              "    <tr>\n",
              "      <th>47</th>\n",
              "      <td>R. Lukaku</td>\n",
              "      <td>9.0</td>\n",
              "      <td>ST</td>\n",
              "      <td>87</td>\n",
              "      <td>Belgium</td>\n",
              "      <td>25</td>\n",
              "      <td>€230K</td>\n",
              "      <td>€62.5M</td>\n",
              "      <td>2022</td>\n",
              "    </tr>\n",
              "    <tr>\n",
              "      <th>93</th>\n",
              "      <td>A. Sánchez</td>\n",
              "      <td>7.0</td>\n",
              "      <td>RW</td>\n",
              "      <td>85</td>\n",
              "      <td>Chile</td>\n",
              "      <td>29</td>\n",
              "      <td>€215K</td>\n",
              "      <td>€37.5M</td>\n",
              "      <td>2022</td>\n",
              "    </tr>\n",
              "    <tr>\n",
              "      <th>116</th>\n",
              "      <td>A. Martial</td>\n",
              "      <td>11.0</td>\n",
              "      <td>LW</td>\n",
              "      <td>84</td>\n",
              "      <td>France</td>\n",
              "      <td>22</td>\n",
              "      <td>€165K</td>\n",
              "      <td>€42.5M</td>\n",
              "      <td>2019</td>\n",
              "    </tr>\n",
              "    <tr>\n",
              "      <th>132</th>\n",
              "      <td>N. Matić</td>\n",
              "      <td>31.0</td>\n",
              "      <td>CDM</td>\n",
              "      <td>84</td>\n",
              "      <td>Serbia</td>\n",
              "      <td>29</td>\n",
              "      <td>€165K</td>\n",
              "      <td>€24M</td>\n",
              "      <td>2020</td>\n",
              "    </tr>\n",
              "    <tr>\n",
              "      <th>211</th>\n",
              "      <td>Juan Mata</td>\n",
              "      <td>8.0</td>\n",
              "      <td>RM</td>\n",
              "      <td>83</td>\n",
              "      <td>Spain</td>\n",
              "      <td>30</td>\n",
              "      <td>€160K</td>\n",
              "      <td>€24.5M</td>\n",
              "      <td>2019</td>\n",
              "    </tr>\n",
              "    <tr>\n",
              "      <th>250</th>\n",
              "      <td>Fred</td>\n",
              "      <td>17.0</td>\n",
              "      <td>CM</td>\n",
              "      <td>82</td>\n",
              "      <td>Brazil</td>\n",
              "      <td>25</td>\n",
              "      <td>€140K</td>\n",
              "      <td>€26.5M</td>\n",
              "      <td>2023</td>\n",
              "    </tr>\n",
              "    <tr>\n",
              "      <th>254</th>\n",
              "      <td>J. Lingard</td>\n",
              "      <td>7.0</td>\n",
              "      <td>CAM</td>\n",
              "      <td>82</td>\n",
              "      <td>England</td>\n",
              "      <td>25</td>\n",
              "      <td>€140K</td>\n",
              "      <td>€26.5M</td>\n",
              "      <td>2021</td>\n",
              "    </tr>\n",
              "    <tr>\n",
              "      <th>319</th>\n",
              "      <td>M. Rashford</td>\n",
              "      <td>11.0</td>\n",
              "      <td>LW</td>\n",
              "      <td>81</td>\n",
              "      <td>England</td>\n",
              "      <td>20</td>\n",
              "      <td>€110K</td>\n",
              "      <td>€27M</td>\n",
              "      <td>2020</td>\n",
              "    </tr>\n",
              "    <tr>\n",
              "      <th>327</th>\n",
              "      <td>E. Bailly</td>\n",
              "      <td>2.0</td>\n",
              "      <td>CB</td>\n",
              "      <td>81</td>\n",
              "      <td>Ivory Coast</td>\n",
              "      <td>24</td>\n",
              "      <td>€105K</td>\n",
              "      <td>€21M</td>\n",
              "      <td>2020</td>\n",
              "    </tr>\n",
              "    <tr>\n",
              "      <th>374</th>\n",
              "      <td>Ander Herrera</td>\n",
              "      <td>21.0</td>\n",
              "      <td>CM</td>\n",
              "      <td>81</td>\n",
              "      <td>Spain</td>\n",
              "      <td>28</td>\n",
              "      <td>€140K</td>\n",
              "      <td>€17.5M</td>\n",
              "      <td>2019</td>\n",
              "    </tr>\n",
              "    <tr>\n",
              "      <th>377</th>\n",
              "      <td>C. Smalling</td>\n",
              "      <td>12.0</td>\n",
              "      <td>RCB</td>\n",
              "      <td>81</td>\n",
              "      <td>England</td>\n",
              "      <td>28</td>\n",
              "      <td>€130K</td>\n",
              "      <td>€16M</td>\n",
              "      <td>2019</td>\n",
              "    </tr>\n",
              "    <tr>\n",
              "      <th>399</th>\n",
              "      <td>A. Valencia</td>\n",
              "      <td>16.0</td>\n",
              "      <td>RM</td>\n",
              "      <td>81</td>\n",
              "      <td>Ecuador</td>\n",
              "      <td>32</td>\n",
              "      <td>€120K</td>\n",
              "      <td>€10M</td>\n",
              "      <td>2019</td>\n",
              "    </tr>\n",
              "    <tr>\n",
              "      <th>454</th>\n",
              "      <td>L. Shaw</td>\n",
              "      <td>23.0</td>\n",
              "      <td>LB</td>\n",
              "      <td>80</td>\n",
              "      <td>England</td>\n",
              "      <td>22</td>\n",
              "      <td>€96K</td>\n",
              "      <td>€16.5M</td>\n",
              "      <td>2023</td>\n",
              "    </tr>\n",
              "    <tr>\n",
              "      <th>526</th>\n",
              "      <td>S. Romero</td>\n",
              "      <td>1.0</td>\n",
              "      <td>GK</td>\n",
              "      <td>80</td>\n",
              "      <td>Argentina</td>\n",
              "      <td>31</td>\n",
              "      <td>€91K</td>\n",
              "      <td>€9M</td>\n",
              "      <td>2021</td>\n",
              "    </tr>\n",
              "    <tr>\n",
              "      <th>584</th>\n",
              "      <td>V. Lindelöf</td>\n",
              "      <td>3.0</td>\n",
              "      <td>CB</td>\n",
              "      <td>79</td>\n",
              "      <td>Sweden</td>\n",
              "      <td>23</td>\n",
              "      <td>€91K</td>\n",
              "      <td>€14.5M</td>\n",
              "      <td>2021</td>\n",
              "    </tr>\n",
              "    <tr>\n",
              "      <th>629</th>\n",
              "      <td>M. Rojo</td>\n",
              "      <td>16.0</td>\n",
              "      <td>CB</td>\n",
              "      <td>79</td>\n",
              "      <td>Argentina</td>\n",
              "      <td>28</td>\n",
              "      <td>€115K</td>\n",
              "      <td>€10M</td>\n",
              "      <td>2021</td>\n",
              "    </tr>\n",
              "    <tr>\n",
              "      <th>654</th>\n",
              "      <td>P. Jones</td>\n",
              "      <td>4.0</td>\n",
              "      <td>CB</td>\n",
              "      <td>79</td>\n",
              "      <td>England</td>\n",
              "      <td>26</td>\n",
              "      <td>€110K</td>\n",
              "      <td>€12M</td>\n",
              "      <td>2019</td>\n",
              "    </tr>\n",
              "    <tr>\n",
              "      <th>700</th>\n",
              "      <td>M. Fellaini</td>\n",
              "      <td>8.0</td>\n",
              "      <td>CM</td>\n",
              "      <td>79</td>\n",
              "      <td>Belgium</td>\n",
              "      <td>30</td>\n",
              "      <td>€120K</td>\n",
              "      <td>€11.5M</td>\n",
              "      <td>2020</td>\n",
              "    </tr>\n",
              "    <tr>\n",
              "      <th>717</th>\n",
              "      <td>A. Young</td>\n",
              "      <td>18.0</td>\n",
              "      <td>LB</td>\n",
              "      <td>79</td>\n",
              "      <td>England</td>\n",
              "      <td>32</td>\n",
              "      <td>€110K</td>\n",
              "      <td>€7M</td>\n",
              "      <td>2019</td>\n",
              "    </tr>\n",
              "    <tr>\n",
              "      <th>807</th>\n",
              "      <td>Andreas Pereira</td>\n",
              "      <td>15.0</td>\n",
              "      <td>CM</td>\n",
              "      <td>78</td>\n",
              "      <td>Brazil</td>\n",
              "      <td>22</td>\n",
              "      <td>€91K</td>\n",
              "      <td>€14M</td>\n",
              "      <td>2019</td>\n",
              "    </tr>\n",
              "    <tr>\n",
              "      <th>1313</th>\n",
              "      <td>M. Darmian</td>\n",
              "      <td>36.0</td>\n",
              "      <td>LB</td>\n",
              "      <td>76</td>\n",
              "      <td>Italy</td>\n",
              "      <td>28</td>\n",
              "      <td>€88K</td>\n",
              "      <td>€6M</td>\n",
              "      <td>2019</td>\n",
              "    </tr>\n",
              "    <tr>\n",
              "      <th>2561</th>\n",
              "      <td>L. Grant</td>\n",
              "      <td>13.0</td>\n",
              "      <td>GK</td>\n",
              "      <td>74</td>\n",
              "      <td>England</td>\n",
              "      <td>35</td>\n",
              "      <td>€39K</td>\n",
              "      <td>€1.3M</td>\n",
              "      <td>2020</td>\n",
              "    </tr>\n",
              "    <tr>\n",
              "      <th>3451</th>\n",
              "      <td>Diogo Dalot</td>\n",
              "      <td>20.0</td>\n",
              "      <td>RB</td>\n",
              "      <td>72</td>\n",
              "      <td>Portugal</td>\n",
              "      <td>19</td>\n",
              "      <td>€26K</td>\n",
              "      <td>€4.7M</td>\n",
              "      <td>2023</td>\n",
              "    </tr>\n",
              "    <tr>\n",
              "      <th>4513</th>\n",
              "      <td>S. McTominay</td>\n",
              "      <td>17.0</td>\n",
              "      <td>CM</td>\n",
              "      <td>71</td>\n",
              "      <td>Scotland</td>\n",
              "      <td>21</td>\n",
              "      <td>€43K</td>\n",
              "      <td>€3.8M</td>\n",
              "      <td>2021</td>\n",
              "    </tr>\n",
              "    <tr>\n",
              "      <th>8191</th>\n",
              "      <td>A. Gomes</td>\n",
              "      <td>47.0</td>\n",
              "      <td>CAM</td>\n",
              "      <td>67</td>\n",
              "      <td>England</td>\n",
              "      <td>17</td>\n",
              "      <td>€15K</td>\n",
              "      <td>€1.5M</td>\n",
              "      <td>2021</td>\n",
              "    </tr>\n",
              "    <tr>\n",
              "      <th>10087</th>\n",
              "      <td>T. Chong</td>\n",
              "      <td>44.0</td>\n",
              "      <td>RW</td>\n",
              "      <td>65</td>\n",
              "      <td>Netherlands</td>\n",
              "      <td>18</td>\n",
              "      <td>€13K</td>\n",
              "      <td>€1.1M</td>\n",
              "      <td>2019</td>\n",
              "    </tr>\n",
              "    <tr>\n",
              "      <th>10457</th>\n",
              "      <td>E. Hamilton</td>\n",
              "      <td>48.0</td>\n",
              "      <td>CM</td>\n",
              "      <td>65</td>\n",
              "      <td>Scotland</td>\n",
              "      <td>19</td>\n",
              "      <td>€11K</td>\n",
              "      <td>€1M</td>\n",
              "      <td>2020</td>\n",
              "    </tr>\n",
              "    <tr>\n",
              "      <th>10461</th>\n",
              "      <td>C. Gribbin</td>\n",
              "      <td>42.0</td>\n",
              "      <td>CAM</td>\n",
              "      <td>65</td>\n",
              "      <td>England</td>\n",
              "      <td>19</td>\n",
              "      <td>€11K</td>\n",
              "      <td>€1.2M</td>\n",
              "      <td>2019</td>\n",
              "    </tr>\n",
              "    <tr>\n",
              "      <th>11081</th>\n",
              "      <td>R. Poole</td>\n",
              "      <td>50.0</td>\n",
              "      <td>CB</td>\n",
              "      <td>64</td>\n",
              "      <td>Wales</td>\n",
              "      <td>20</td>\n",
              "      <td>€13K</td>\n",
              "      <td>€675K</td>\n",
              "      <td>2019</td>\n",
              "    </tr>\n",
              "    <tr>\n",
              "      <th>11422</th>\n",
              "      <td>R. Williams</td>\n",
              "      <td>52.0</td>\n",
              "      <td>CB</td>\n",
              "      <td>64</td>\n",
              "      <td>England</td>\n",
              "      <td>19</td>\n",
              "      <td>€8K</td>\n",
              "      <td>€875K</td>\n",
              "      <td>2019</td>\n",
              "    </tr>\n",
              "    <tr>\n",
              "      <th>12545</th>\n",
              "      <td>J. Bohui</td>\n",
              "      <td>46.0</td>\n",
              "      <td>ST</td>\n",
              "      <td>63</td>\n",
              "      <td>England</td>\n",
              "      <td>19</td>\n",
              "      <td>€10K</td>\n",
              "      <td>€700K</td>\n",
              "      <td>2019</td>\n",
              "    </tr>\n",
              "  </tbody>\n",
              "</table>\n",
              "</div>\n",
              "      <button class=\"colab-df-convert\" onclick=\"convertToInteractive('df-49097838-97db-4965-8786-b85b1d22a914')\"\n",
              "              title=\"Convert this dataframe to an interactive table.\"\n",
              "              style=\"display:none;\">\n",
              "        \n",
              "  <svg xmlns=\"http://www.w3.org/2000/svg\" height=\"24px\"viewBox=\"0 0 24 24\"\n",
              "       width=\"24px\">\n",
              "    <path d=\"M0 0h24v24H0V0z\" fill=\"none\"/>\n",
              "    <path d=\"M18.56 5.44l.94 2.06.94-2.06 2.06-.94-2.06-.94-.94-2.06-.94 2.06-2.06.94zm-11 1L8.5 8.5l.94-2.06 2.06-.94-2.06-.94L8.5 2.5l-.94 2.06-2.06.94zm10 10l.94 2.06.94-2.06 2.06-.94-2.06-.94-.94-2.06-.94 2.06-2.06.94z\"/><path d=\"M17.41 7.96l-1.37-1.37c-.4-.4-.92-.59-1.43-.59-.52 0-1.04.2-1.43.59L10.3 9.45l-7.72 7.72c-.78.78-.78 2.05 0 2.83L4 21.41c.39.39.9.59 1.41.59.51 0 1.02-.2 1.41-.59l7.78-7.78 2.81-2.81c.8-.78.8-2.07 0-2.86zM5.41 20L4 18.59l7.72-7.72 1.47 1.35L5.41 20z\"/>\n",
              "  </svg>\n",
              "      </button>\n",
              "      \n",
              "  <style>\n",
              "    .colab-df-container {\n",
              "      display:flex;\n",
              "      flex-wrap:wrap;\n",
              "      gap: 12px;\n",
              "    }\n",
              "\n",
              "    .colab-df-convert {\n",
              "      background-color: #E8F0FE;\n",
              "      border: none;\n",
              "      border-radius: 50%;\n",
              "      cursor: pointer;\n",
              "      display: none;\n",
              "      fill: #1967D2;\n",
              "      height: 32px;\n",
              "      padding: 0 0 0 0;\n",
              "      width: 32px;\n",
              "    }\n",
              "\n",
              "    .colab-df-convert:hover {\n",
              "      background-color: #E2EBFA;\n",
              "      box-shadow: 0px 1px 2px rgba(60, 64, 67, 0.3), 0px 1px 3px 1px rgba(60, 64, 67, 0.15);\n",
              "      fill: #174EA6;\n",
              "    }\n",
              "\n",
              "    [theme=dark] .colab-df-convert {\n",
              "      background-color: #3B4455;\n",
              "      fill: #D2E3FC;\n",
              "    }\n",
              "\n",
              "    [theme=dark] .colab-df-convert:hover {\n",
              "      background-color: #434B5C;\n",
              "      box-shadow: 0px 1px 3px 1px rgba(0, 0, 0, 0.15);\n",
              "      filter: drop-shadow(0px 1px 2px rgba(0, 0, 0, 0.3));\n",
              "      fill: #FFFFFF;\n",
              "    }\n",
              "  </style>\n",
              "\n",
              "      <script>\n",
              "        const buttonEl =\n",
              "          document.querySelector('#df-49097838-97db-4965-8786-b85b1d22a914 button.colab-df-convert');\n",
              "        buttonEl.style.display =\n",
              "          google.colab.kernel.accessAllowed ? 'block' : 'none';\n",
              "\n",
              "        async function convertToInteractive(key) {\n",
              "          const element = document.querySelector('#df-49097838-97db-4965-8786-b85b1d22a914');\n",
              "          const dataTable =\n",
              "            await google.colab.kernel.invokeFunction('convertToInteractive',\n",
              "                                                     [key], {});\n",
              "          if (!dataTable) return;\n",
              "\n",
              "          const docLinkHtml = 'Like what you see? Visit the ' +\n",
              "            '<a target=\"_blank\" href=https://colab.research.google.com/notebooks/data_table.ipynb>data table notebook</a>'\n",
              "            + ' to learn more about interactive tables.';\n",
              "          element.innerHTML = '';\n",
              "          dataTable['output_type'] = 'display_data';\n",
              "          await google.colab.output.renderOutput(dataTable, element);\n",
              "          const docLink = document.createElement('div');\n",
              "          docLink.innerHTML = docLinkHtml;\n",
              "          element.appendChild(docLink);\n",
              "        }\n",
              "      </script>\n",
              "    </div>\n",
              "  </div>\n",
              "  "
            ]
          },
          "metadata": {},
          "execution_count": 6
        }
      ]
    },
    {
      "cell_type": "code",
      "source": [
        "x = club('Manchester United')\n",
        "x.shape"
      ],
      "metadata": {
        "colab": {
          "base_uri": "https://localhost:8080/"
        },
        "id": "1lRa04TZKals",
        "outputId": "0edf9b50-173b-4524-81b6-e9513ed3d451"
      },
      "execution_count": 7,
      "outputs": [
        {
          "output_type": "execute_result",
          "data": {
            "text/plain": [
              "(33, 9)"
            ]
          },
          "metadata": {},
          "execution_count": 7
        }
      ]
    },
    {
      "cell_type": "code",
      "source": [
        "df.describe()"
      ],
      "metadata": {
        "colab": {
          "base_uri": "https://localhost:8080/",
          "height": 411
        },
        "id": "fi7IHnyvKgBw",
        "outputId": "64c4bbe7-cea2-4745-c9b9-1abdc9dbebd6"
      },
      "execution_count": 8,
      "outputs": [
        {
          "output_type": "execute_result",
          "data": {
            "text/plain": [
              "         Unnamed: 0             ID           Age       Overall     Potential  \\\n",
              "count  18207.000000   18207.000000  18207.000000  18207.000000  18207.000000   \n",
              "mean    9103.000000  214298.338606     25.122206     66.238699     71.307299   \n",
              "std     5256.052511   29965.244204      4.669943      6.908930      6.136496   \n",
              "min        0.000000      16.000000     16.000000     46.000000     48.000000   \n",
              "25%     4551.500000  200315.500000     21.000000     62.000000     67.000000   \n",
              "50%     9103.000000  221759.000000     25.000000     66.000000     71.000000   \n",
              "75%    13654.500000  236529.500000     28.000000     71.000000     75.000000   \n",
              "max    18206.000000  246620.000000     45.000000     94.000000     95.000000   \n",
              "\n",
              "            Special  International Reputation     Weak Foot   Skill Moves  \\\n",
              "count  18207.000000              18159.000000  18159.000000  18159.000000   \n",
              "mean    1597.809908                  1.113222      2.947299      2.361308   \n",
              "std      272.586016                  0.394031      0.660456      0.756164   \n",
              "min      731.000000                  1.000000      1.000000      1.000000   \n",
              "25%     1457.000000                  1.000000      3.000000      2.000000   \n",
              "50%     1635.000000                  1.000000      3.000000      2.000000   \n",
              "75%     1787.000000                  1.000000      3.000000      3.000000   \n",
              "max     2346.000000                  5.000000      5.000000      5.000000   \n",
              "\n",
              "       Jersey Number  ...     Penalties     Composure       Marking  \\\n",
              "count   18147.000000  ...  18159.000000  18159.000000  18159.000000   \n",
              "mean       19.546096  ...     48.548598     58.648274     47.281623   \n",
              "std        15.947765  ...     15.704053     11.436133     19.904397   \n",
              "min         1.000000  ...      5.000000      3.000000      3.000000   \n",
              "25%         8.000000  ...     39.000000     51.000000     30.000000   \n",
              "50%        17.000000  ...     49.000000     60.000000     53.000000   \n",
              "75%        26.000000  ...     60.000000     67.000000     64.000000   \n",
              "max        99.000000  ...     92.000000     96.000000     94.000000   \n",
              "\n",
              "       StandingTackle  SlidingTackle      GKDiving    GKHandling  \\\n",
              "count    18159.000000   18159.000000  18159.000000  18159.000000   \n",
              "mean        47.697836      45.661435     16.616223     16.391596   \n",
              "std         21.664004      21.289135     17.695349     16.906900   \n",
              "min          2.000000       3.000000      1.000000      1.000000   \n",
              "25%         27.000000      24.000000      8.000000      8.000000   \n",
              "50%         55.000000      52.000000     11.000000     11.000000   \n",
              "75%         66.000000      64.000000     14.000000     14.000000   \n",
              "max         93.000000      91.000000     90.000000     92.000000   \n",
              "\n",
              "          GKKicking  GKPositioning    GKReflexes  \n",
              "count  18159.000000   18159.000000  18159.000000  \n",
              "mean      16.232061      16.388898     16.710887  \n",
              "std       16.502864      17.034669     17.955119  \n",
              "min        1.000000       1.000000      1.000000  \n",
              "25%        8.000000       8.000000      8.000000  \n",
              "50%       11.000000      11.000000     11.000000  \n",
              "75%       14.000000      14.000000     14.000000  \n",
              "max       91.000000      90.000000     94.000000  \n",
              "\n",
              "[8 rows x 44 columns]"
            ],
            "text/html": [
              "\n",
              "  <div id=\"df-8c764365-c6f8-4e85-aca5-3f498265f923\">\n",
              "    <div class=\"colab-df-container\">\n",
              "      <div>\n",
              "<style scoped>\n",
              "    .dataframe tbody tr th:only-of-type {\n",
              "        vertical-align: middle;\n",
              "    }\n",
              "\n",
              "    .dataframe tbody tr th {\n",
              "        vertical-align: top;\n",
              "    }\n",
              "\n",
              "    .dataframe thead th {\n",
              "        text-align: right;\n",
              "    }\n",
              "</style>\n",
              "<table border=\"1\" class=\"dataframe\">\n",
              "  <thead>\n",
              "    <tr style=\"text-align: right;\">\n",
              "      <th></th>\n",
              "      <th>Unnamed: 0</th>\n",
              "      <th>ID</th>\n",
              "      <th>Age</th>\n",
              "      <th>Overall</th>\n",
              "      <th>Potential</th>\n",
              "      <th>Special</th>\n",
              "      <th>International Reputation</th>\n",
              "      <th>Weak Foot</th>\n",
              "      <th>Skill Moves</th>\n",
              "      <th>Jersey Number</th>\n",
              "      <th>...</th>\n",
              "      <th>Penalties</th>\n",
              "      <th>Composure</th>\n",
              "      <th>Marking</th>\n",
              "      <th>StandingTackle</th>\n",
              "      <th>SlidingTackle</th>\n",
              "      <th>GKDiving</th>\n",
              "      <th>GKHandling</th>\n",
              "      <th>GKKicking</th>\n",
              "      <th>GKPositioning</th>\n",
              "      <th>GKReflexes</th>\n",
              "    </tr>\n",
              "  </thead>\n",
              "  <tbody>\n",
              "    <tr>\n",
              "      <th>count</th>\n",
              "      <td>18207.000000</td>\n",
              "      <td>18207.000000</td>\n",
              "      <td>18207.000000</td>\n",
              "      <td>18207.000000</td>\n",
              "      <td>18207.000000</td>\n",
              "      <td>18207.000000</td>\n",
              "      <td>18159.000000</td>\n",
              "      <td>18159.000000</td>\n",
              "      <td>18159.000000</td>\n",
              "      <td>18147.000000</td>\n",
              "      <td>...</td>\n",
              "      <td>18159.000000</td>\n",
              "      <td>18159.000000</td>\n",
              "      <td>18159.000000</td>\n",
              "      <td>18159.000000</td>\n",
              "      <td>18159.000000</td>\n",
              "      <td>18159.000000</td>\n",
              "      <td>18159.000000</td>\n",
              "      <td>18159.000000</td>\n",
              "      <td>18159.000000</td>\n",
              "      <td>18159.000000</td>\n",
              "    </tr>\n",
              "    <tr>\n",
              "      <th>mean</th>\n",
              "      <td>9103.000000</td>\n",
              "      <td>214298.338606</td>\n",
              "      <td>25.122206</td>\n",
              "      <td>66.238699</td>\n",
              "      <td>71.307299</td>\n",
              "      <td>1597.809908</td>\n",
              "      <td>1.113222</td>\n",
              "      <td>2.947299</td>\n",
              "      <td>2.361308</td>\n",
              "      <td>19.546096</td>\n",
              "      <td>...</td>\n",
              "      <td>48.548598</td>\n",
              "      <td>58.648274</td>\n",
              "      <td>47.281623</td>\n",
              "      <td>47.697836</td>\n",
              "      <td>45.661435</td>\n",
              "      <td>16.616223</td>\n",
              "      <td>16.391596</td>\n",
              "      <td>16.232061</td>\n",
              "      <td>16.388898</td>\n",
              "      <td>16.710887</td>\n",
              "    </tr>\n",
              "    <tr>\n",
              "      <th>std</th>\n",
              "      <td>5256.052511</td>\n",
              "      <td>29965.244204</td>\n",
              "      <td>4.669943</td>\n",
              "      <td>6.908930</td>\n",
              "      <td>6.136496</td>\n",
              "      <td>272.586016</td>\n",
              "      <td>0.394031</td>\n",
              "      <td>0.660456</td>\n",
              "      <td>0.756164</td>\n",
              "      <td>15.947765</td>\n",
              "      <td>...</td>\n",
              "      <td>15.704053</td>\n",
              "      <td>11.436133</td>\n",
              "      <td>19.904397</td>\n",
              "      <td>21.664004</td>\n",
              "      <td>21.289135</td>\n",
              "      <td>17.695349</td>\n",
              "      <td>16.906900</td>\n",
              "      <td>16.502864</td>\n",
              "      <td>17.034669</td>\n",
              "      <td>17.955119</td>\n",
              "    </tr>\n",
              "    <tr>\n",
              "      <th>min</th>\n",
              "      <td>0.000000</td>\n",
              "      <td>16.000000</td>\n",
              "      <td>16.000000</td>\n",
              "      <td>46.000000</td>\n",
              "      <td>48.000000</td>\n",
              "      <td>731.000000</td>\n",
              "      <td>1.000000</td>\n",
              "      <td>1.000000</td>\n",
              "      <td>1.000000</td>\n",
              "      <td>1.000000</td>\n",
              "      <td>...</td>\n",
              "      <td>5.000000</td>\n",
              "      <td>3.000000</td>\n",
              "      <td>3.000000</td>\n",
              "      <td>2.000000</td>\n",
              "      <td>3.000000</td>\n",
              "      <td>1.000000</td>\n",
              "      <td>1.000000</td>\n",
              "      <td>1.000000</td>\n",
              "      <td>1.000000</td>\n",
              "      <td>1.000000</td>\n",
              "    </tr>\n",
              "    <tr>\n",
              "      <th>25%</th>\n",
              "      <td>4551.500000</td>\n",
              "      <td>200315.500000</td>\n",
              "      <td>21.000000</td>\n",
              "      <td>62.000000</td>\n",
              "      <td>67.000000</td>\n",
              "      <td>1457.000000</td>\n",
              "      <td>1.000000</td>\n",
              "      <td>3.000000</td>\n",
              "      <td>2.000000</td>\n",
              "      <td>8.000000</td>\n",
              "      <td>...</td>\n",
              "      <td>39.000000</td>\n",
              "      <td>51.000000</td>\n",
              "      <td>30.000000</td>\n",
              "      <td>27.000000</td>\n",
              "      <td>24.000000</td>\n",
              "      <td>8.000000</td>\n",
              "      <td>8.000000</td>\n",
              "      <td>8.000000</td>\n",
              "      <td>8.000000</td>\n",
              "      <td>8.000000</td>\n",
              "    </tr>\n",
              "    <tr>\n",
              "      <th>50%</th>\n",
              "      <td>9103.000000</td>\n",
              "      <td>221759.000000</td>\n",
              "      <td>25.000000</td>\n",
              "      <td>66.000000</td>\n",
              "      <td>71.000000</td>\n",
              "      <td>1635.000000</td>\n",
              "      <td>1.000000</td>\n",
              "      <td>3.000000</td>\n",
              "      <td>2.000000</td>\n",
              "      <td>17.000000</td>\n",
              "      <td>...</td>\n",
              "      <td>49.000000</td>\n",
              "      <td>60.000000</td>\n",
              "      <td>53.000000</td>\n",
              "      <td>55.000000</td>\n",
              "      <td>52.000000</td>\n",
              "      <td>11.000000</td>\n",
              "      <td>11.000000</td>\n",
              "      <td>11.000000</td>\n",
              "      <td>11.000000</td>\n",
              "      <td>11.000000</td>\n",
              "    </tr>\n",
              "    <tr>\n",
              "      <th>75%</th>\n",
              "      <td>13654.500000</td>\n",
              "      <td>236529.500000</td>\n",
              "      <td>28.000000</td>\n",
              "      <td>71.000000</td>\n",
              "      <td>75.000000</td>\n",
              "      <td>1787.000000</td>\n",
              "      <td>1.000000</td>\n",
              "      <td>3.000000</td>\n",
              "      <td>3.000000</td>\n",
              "      <td>26.000000</td>\n",
              "      <td>...</td>\n",
              "      <td>60.000000</td>\n",
              "      <td>67.000000</td>\n",
              "      <td>64.000000</td>\n",
              "      <td>66.000000</td>\n",
              "      <td>64.000000</td>\n",
              "      <td>14.000000</td>\n",
              "      <td>14.000000</td>\n",
              "      <td>14.000000</td>\n",
              "      <td>14.000000</td>\n",
              "      <td>14.000000</td>\n",
              "    </tr>\n",
              "    <tr>\n",
              "      <th>max</th>\n",
              "      <td>18206.000000</td>\n",
              "      <td>246620.000000</td>\n",
              "      <td>45.000000</td>\n",
              "      <td>94.000000</td>\n",
              "      <td>95.000000</td>\n",
              "      <td>2346.000000</td>\n",
              "      <td>5.000000</td>\n",
              "      <td>5.000000</td>\n",
              "      <td>5.000000</td>\n",
              "      <td>99.000000</td>\n",
              "      <td>...</td>\n",
              "      <td>92.000000</td>\n",
              "      <td>96.000000</td>\n",
              "      <td>94.000000</td>\n",
              "      <td>93.000000</td>\n",
              "      <td>91.000000</td>\n",
              "      <td>90.000000</td>\n",
              "      <td>92.000000</td>\n",
              "      <td>91.000000</td>\n",
              "      <td>90.000000</td>\n",
              "      <td>94.000000</td>\n",
              "    </tr>\n",
              "  </tbody>\n",
              "</table>\n",
              "<p>8 rows × 44 columns</p>\n",
              "</div>\n",
              "      <button class=\"colab-df-convert\" onclick=\"convertToInteractive('df-8c764365-c6f8-4e85-aca5-3f498265f923')\"\n",
              "              title=\"Convert this dataframe to an interactive table.\"\n",
              "              style=\"display:none;\">\n",
              "        \n",
              "  <svg xmlns=\"http://www.w3.org/2000/svg\" height=\"24px\"viewBox=\"0 0 24 24\"\n",
              "       width=\"24px\">\n",
              "    <path d=\"M0 0h24v24H0V0z\" fill=\"none\"/>\n",
              "    <path d=\"M18.56 5.44l.94 2.06.94-2.06 2.06-.94-2.06-.94-.94-2.06-.94 2.06-2.06.94zm-11 1L8.5 8.5l.94-2.06 2.06-.94-2.06-.94L8.5 2.5l-.94 2.06-2.06.94zm10 10l.94 2.06.94-2.06 2.06-.94-2.06-.94-.94-2.06-.94 2.06-2.06.94z\"/><path d=\"M17.41 7.96l-1.37-1.37c-.4-.4-.92-.59-1.43-.59-.52 0-1.04.2-1.43.59L10.3 9.45l-7.72 7.72c-.78.78-.78 2.05 0 2.83L4 21.41c.39.39.9.59 1.41.59.51 0 1.02-.2 1.41-.59l7.78-7.78 2.81-2.81c.8-.78.8-2.07 0-2.86zM5.41 20L4 18.59l7.72-7.72 1.47 1.35L5.41 20z\"/>\n",
              "  </svg>\n",
              "      </button>\n",
              "      \n",
              "  <style>\n",
              "    .colab-df-container {\n",
              "      display:flex;\n",
              "      flex-wrap:wrap;\n",
              "      gap: 12px;\n",
              "    }\n",
              "\n",
              "    .colab-df-convert {\n",
              "      background-color: #E8F0FE;\n",
              "      border: none;\n",
              "      border-radius: 50%;\n",
              "      cursor: pointer;\n",
              "      display: none;\n",
              "      fill: #1967D2;\n",
              "      height: 32px;\n",
              "      padding: 0 0 0 0;\n",
              "      width: 32px;\n",
              "    }\n",
              "\n",
              "    .colab-df-convert:hover {\n",
              "      background-color: #E2EBFA;\n",
              "      box-shadow: 0px 1px 2px rgba(60, 64, 67, 0.3), 0px 1px 3px 1px rgba(60, 64, 67, 0.15);\n",
              "      fill: #174EA6;\n",
              "    }\n",
              "\n",
              "    [theme=dark] .colab-df-convert {\n",
              "      background-color: #3B4455;\n",
              "      fill: #D2E3FC;\n",
              "    }\n",
              "\n",
              "    [theme=dark] .colab-df-convert:hover {\n",
              "      background-color: #434B5C;\n",
              "      box-shadow: 0px 1px 3px 1px rgba(0, 0, 0, 0.15);\n",
              "      filter: drop-shadow(0px 1px 2px rgba(0, 0, 0, 0.3));\n",
              "      fill: #FFFFFF;\n",
              "    }\n",
              "  </style>\n",
              "\n",
              "      <script>\n",
              "        const buttonEl =\n",
              "          document.querySelector('#df-8c764365-c6f8-4e85-aca5-3f498265f923 button.colab-df-convert');\n",
              "        buttonEl.style.display =\n",
              "          google.colab.kernel.accessAllowed ? 'block' : 'none';\n",
              "\n",
              "        async function convertToInteractive(key) {\n",
              "          const element = document.querySelector('#df-8c764365-c6f8-4e85-aca5-3f498265f923');\n",
              "          const dataTable =\n",
              "            await google.colab.kernel.invokeFunction('convertToInteractive',\n",
              "                                                     [key], {});\n",
              "          if (!dataTable) return;\n",
              "\n",
              "          const docLinkHtml = 'Like what you see? Visit the ' +\n",
              "            '<a target=\"_blank\" href=https://colab.research.google.com/notebooks/data_table.ipynb>data table notebook</a>'\n",
              "            + ' to learn more about interactive tables.';\n",
              "          element.innerHTML = '';\n",
              "          dataTable['output_type'] = 'display_data';\n",
              "          await google.colab.output.renderOutput(dataTable, element);\n",
              "          const docLink = document.createElement('div');\n",
              "          docLink.innerHTML = docLinkHtml;\n",
              "          element.appendChild(docLink);\n",
              "        }\n",
              "      </script>\n",
              "    </div>\n",
              "  </div>\n",
              "  "
            ]
          },
          "metadata": {},
          "execution_count": 8
        }
      ]
    },
    {
      "cell_type": "code",
      "source": [
        "df.isnull().sum()"
      ],
      "metadata": {
        "colab": {
          "base_uri": "https://localhost:8080/"
        },
        "id": "CCg7yub1Kr4b",
        "outputId": "fa67ea90-1362-4f82-b5b5-411f33c3420c"
      },
      "execution_count": 9,
      "outputs": [
        {
          "output_type": "execute_result",
          "data": {
            "text/plain": [
              "Unnamed: 0           0\n",
              "ID                   0\n",
              "Name                 0\n",
              "Age                  0\n",
              "Photo                0\n",
              "                  ... \n",
              "GKHandling          48\n",
              "GKKicking           48\n",
              "GKPositioning       48\n",
              "GKReflexes          48\n",
              "Release Clause    1564\n",
              "Length: 89, dtype: int64"
            ]
          },
          "metadata": {},
          "execution_count": 9
        }
      ]
    },
    {
      "cell_type": "code",
      "source": [
        "df.info()"
      ],
      "metadata": {
        "colab": {
          "base_uri": "https://localhost:8080/"
        },
        "id": "A0-fbAQkKxf9",
        "outputId": "c8c503bb-598a-41b0-dcf5-d843b1ee4d0b"
      },
      "execution_count": 10,
      "outputs": [
        {
          "output_type": "stream",
          "name": "stdout",
          "text": [
            "<class 'pandas.core.frame.DataFrame'>\n",
            "RangeIndex: 18207 entries, 0 to 18206\n",
            "Data columns (total 89 columns):\n",
            " #   Column                    Non-Null Count  Dtype  \n",
            "---  ------                    --------------  -----  \n",
            " 0   Unnamed: 0                18207 non-null  int64  \n",
            " 1   ID                        18207 non-null  int64  \n",
            " 2   Name                      18207 non-null  object \n",
            " 3   Age                       18207 non-null  int64  \n",
            " 4   Photo                     18207 non-null  object \n",
            " 5   Nationality               18207 non-null  object \n",
            " 6   Flag                      18207 non-null  object \n",
            " 7   Overall                   18207 non-null  int64  \n",
            " 8   Potential                 18207 non-null  int64  \n",
            " 9   Club                      17966 non-null  object \n",
            " 10  Club Logo                 18207 non-null  object \n",
            " 11  Value                     18207 non-null  object \n",
            " 12  Wage                      18207 non-null  object \n",
            " 13  Special                   18207 non-null  int64  \n",
            " 14  Preferred Foot            18159 non-null  object \n",
            " 15  International Reputation  18159 non-null  float64\n",
            " 16  Weak Foot                 18159 non-null  float64\n",
            " 17  Skill Moves               18159 non-null  float64\n",
            " 18  Work Rate                 18159 non-null  object \n",
            " 19  Body Type                 18159 non-null  object \n",
            " 20  Real Face                 18159 non-null  object \n",
            " 21  Position                  18147 non-null  object \n",
            " 22  Jersey Number             18147 non-null  float64\n",
            " 23  Joined                    16654 non-null  object \n",
            " 24  Loaned From               1264 non-null   object \n",
            " 25  Contract Valid Until      17918 non-null  object \n",
            " 26  Height                    18159 non-null  object \n",
            " 27  Weight                    18159 non-null  object \n",
            " 28  LS                        16122 non-null  object \n",
            " 29  ST                        16122 non-null  object \n",
            " 30  RS                        16122 non-null  object \n",
            " 31  LW                        16122 non-null  object \n",
            " 32  LF                        16122 non-null  object \n",
            " 33  CF                        16122 non-null  object \n",
            " 34  RF                        16122 non-null  object \n",
            " 35  RW                        16122 non-null  object \n",
            " 36  LAM                       16122 non-null  object \n",
            " 37  CAM                       16122 non-null  object \n",
            " 38  RAM                       16122 non-null  object \n",
            " 39  LM                        16122 non-null  object \n",
            " 40  LCM                       16122 non-null  object \n",
            " 41  CM                        16122 non-null  object \n",
            " 42  RCM                       16122 non-null  object \n",
            " 43  RM                        16122 non-null  object \n",
            " 44  LWB                       16122 non-null  object \n",
            " 45  LDM                       16122 non-null  object \n",
            " 46  CDM                       16122 non-null  object \n",
            " 47  RDM                       16122 non-null  object \n",
            " 48  RWB                       16122 non-null  object \n",
            " 49  LB                        16122 non-null  object \n",
            " 50  LCB                       16122 non-null  object \n",
            " 51  CB                        16122 non-null  object \n",
            " 52  RCB                       16122 non-null  object \n",
            " 53  RB                        16122 non-null  object \n",
            " 54  Crossing                  18159 non-null  float64\n",
            " 55  Finishing                 18159 non-null  float64\n",
            " 56  HeadingAccuracy           18159 non-null  float64\n",
            " 57  ShortPassing              18159 non-null  float64\n",
            " 58  Volleys                   18159 non-null  float64\n",
            " 59  Dribbling                 18159 non-null  float64\n",
            " 60  Curve                     18159 non-null  float64\n",
            " 61  FKAccuracy                18159 non-null  float64\n",
            " 62  LongPassing               18159 non-null  float64\n",
            " 63  BallControl               18159 non-null  float64\n",
            " 64  Acceleration              18159 non-null  float64\n",
            " 65  SprintSpeed               18159 non-null  float64\n",
            " 66  Agility                   18159 non-null  float64\n",
            " 67  Reactions                 18159 non-null  float64\n",
            " 68  Balance                   18159 non-null  float64\n",
            " 69  ShotPower                 18159 non-null  float64\n",
            " 70  Jumping                   18159 non-null  float64\n",
            " 71  Stamina                   18159 non-null  float64\n",
            " 72  Strength                  18159 non-null  float64\n",
            " 73  LongShots                 18159 non-null  float64\n",
            " 74  Aggression                18159 non-null  float64\n",
            " 75  Interceptions             18159 non-null  float64\n",
            " 76  Positioning               18159 non-null  float64\n",
            " 77  Vision                    18159 non-null  float64\n",
            " 78  Penalties                 18159 non-null  float64\n",
            " 79  Composure                 18159 non-null  float64\n",
            " 80  Marking                   18159 non-null  float64\n",
            " 81  StandingTackle            18159 non-null  float64\n",
            " 82  SlidingTackle             18159 non-null  float64\n",
            " 83  GKDiving                  18159 non-null  float64\n",
            " 84  GKHandling                18159 non-null  float64\n",
            " 85  GKKicking                 18159 non-null  float64\n",
            " 86  GKPositioning             18159 non-null  float64\n",
            " 87  GKReflexes                18159 non-null  float64\n",
            " 88  Release Clause            16643 non-null  object \n",
            "dtypes: float64(38), int64(6), object(45)\n",
            "memory usage: 12.4+ MB\n"
          ]
        }
      ]
    },
    {
      "cell_type": "markdown",
      "source": [
        "## Filling the missing for continuous data"
      ],
      "metadata": {
        "id": "IM3WMNZ5Lkwm"
      }
    },
    {
      "cell_type": "code",
      "source": [
        "df['ShortPassing'].fillna(df['ShortPassing'].mean(), inplace = True)\n",
        "df['Volleys'].fillna(df['Volleys'].mean(), inplace = True)\n",
        "df['Dribbling'].fillna(df['Dribbling'].mean(), inplace = True)\n",
        "df['Curve'].fillna(df['Curve'].mean(), inplace = True)\n",
        "df['FKAccuracy'].fillna(df['FKAccuracy'], inplace = True)\n",
        "df['LongPassing'].fillna(df['LongPassing'].mean(), inplace = True)\n",
        "df['BallControl'].fillna(df['BallControl'].mean(), inplace = True)\n",
        "df['HeadingAccuracy'].fillna(df['HeadingAccuracy'].mean(), inplace = True)\n",
        "df['Finishing'].fillna(df['Finishing'].mean(), inplace = True)\n",
        "df['Crossing'].fillna(df['Crossing'].mean(), inplace = True)\n",
        "df['Weight'].fillna('200lbs', inplace = True)\n",
        "df['Contract Valid Until'].fillna(2019, inplace = True)\n",
        "df['Height'].fillna(\"5'11\", inplace = True)\n",
        "df['Loaned From'].fillna('None', inplace = True)\n",
        "df['Joined'].fillna('Jul 1, 2018', inplace = True)\n",
        "df['Jersey Number'].fillna(8, inplace = True)\n",
        "df['Body Type'].fillna('Normal', inplace = True)\n",
        "df['Position'].fillna('ST', inplace = True)\n",
        "df['Club'].fillna('No Club', inplace = True)\n",
        "df['Work Rate'].fillna('Medium/ Medium', inplace = True)\n",
        "df['Skill Moves'].fillna(df['Skill Moves'].median(), inplace = True)\n",
        "df['Weak Foot'].fillna(3, inplace = True)\n",
        "df['Preferred Foot'].fillna('Right', inplace = True)\n",
        "df['International Reputation'].fillna(1, inplace = True)\n",
        "df['Wage'].fillna('€200K', inplace = True)\n",
        "df.fillna(0, inplace = True)"
      ],
      "metadata": {
        "id": "3-I44y3yK4Zo"
      },
      "execution_count": 11,
      "outputs": []
    },
    {
      "cell_type": "code",
      "source": [
        "def defending(df):\n",
        "    return int(round((df[['Marking', 'StandingTackle', \n",
        "                               'SlidingTackle']].mean()).mean()))\n",
        "\n",
        "def general(df):\n",
        "    return int(round((df[['HeadingAccuracy', 'Dribbling', 'Curve', \n",
        "                               'BallControl']].mean()).mean()))\n",
        "\n",
        "def mental(df):\n",
        "    return int(round((df[['Aggression', 'Interceptions', 'Positioning', \n",
        "                               'Vision','Composure']].mean()).mean()))\n",
        "\n",
        "def passing(df):\n",
        "    return int(round((df[['Crossing', 'ShortPassing', \n",
        "                               'LongPassing']].mean()).mean()))\n",
        "\n",
        "def mobility(df):\n",
        "    return int(round((df[['Acceleration', 'SprintSpeed', \n",
        "                               'Agility','Reactions']].mean()).mean()))\n",
        "def power(df):\n",
        "    return int(round((df[['Balance', 'Jumping', 'Stamina', \n",
        "                               'Strength']].mean()).mean()))\n",
        "\n",
        "def rating(df):\n",
        "    return int(round((df[['Potential', 'Overall']].mean()).mean()))\n",
        "\n",
        "def shooting(df):\n",
        "    return int(round((df[['Finishing', 'Volleys', 'FKAccuracy', \n",
        "                               'ShotPower','LongShots', 'Penalties']].mean()).mean()))"
      ],
      "metadata": {
        "id": "lS9wHuroMawK"
      },
      "execution_count": 12,
      "outputs": []
    },
    {
      "cell_type": "markdown",
      "source": [
        "## Renaming the columns"
      ],
      "metadata": {
        "id": "bKVOStzvNGxK"
      }
    },
    {
      "cell_type": "code",
      "source": [
        "df.rename(columns={'Club Logo':'Club_Logo'}, inplace=True)\n",
        "\n",
        "# adding these categories to the data\n",
        "\n",
        "df['Defending'] = df.apply(defending, axis = 1)\n",
        "df['General'] = df.apply(general, axis = 1)\n",
        "df['Mental'] = df.apply(mental, axis = 1)\n",
        "df['Passing'] = df.apply(passing, axis = 1)\n",
        "df['Mobility'] = df.apply(mobility, axis = 1)\n",
        "df['Power'] = df.apply(power, axis = 1)\n",
        "df['Rating'] = df.apply(rating, axis = 1)\n",
        "df['Shooting'] = df.apply(shooting, axis = 1)"
      ],
      "metadata": {
        "id": "sg133mjZM9jk"
      },
      "execution_count": 13,
      "outputs": []
    },
    {
      "cell_type": "code",
      "source": [
        "players = df[['Name','Defending','General','Mental','Passing',\n",
        "                'Mobility','Power','Rating','Shooting','Flag','Age',\n",
        "                'Nationality', 'Photo', 'Club_Logo', 'Club']]\n",
        "\n",
        "players.head()"
      ],
      "metadata": {
        "colab": {
          "base_uri": "https://localhost:8080/",
          "height": 357
        },
        "id": "SahZ2PxUNX4O",
        "outputId": "8a4da1b3-4b1d-4b33-f62d-19cf73245dcb"
      },
      "execution_count": 14,
      "outputs": [
        {
          "output_type": "execute_result",
          "data": {
            "text/plain": [
              "                Name  Defending  General  Mental  Passing  Mobility  Power  \\\n",
              "0           L. Messi         29       89      71       87        91     74   \n",
              "1  Cristiano Ronaldo         27       88      73       81        91     83   \n",
              "2          Neymar Jr         28       85      72       80        94     69   \n",
              "3             De Gea         16       26      43       39        66     54   \n",
              "4       K. De Bruyne         59       79      81       92        81     76   \n",
              "\n",
              "   Rating  Shooting                                 Flag  Age Nationality  \\\n",
              "0      94        88  https://cdn.sofifa.org/flags/52.png   31   Argentina   \n",
              "1      94        88  https://cdn.sofifa.org/flags/38.png   33    Portugal   \n",
              "2      92        84  https://cdn.sofifa.org/flags/54.png   26      Brazil   \n",
              "3      92        21  https://cdn.sofifa.org/flags/45.png   27       Spain   \n",
              "4      92        85   https://cdn.sofifa.org/flags/7.png   27     Belgium   \n",
              "\n",
              "                                            Photo  \\\n",
              "0  https://cdn.sofifa.org/players/4/19/158023.png   \n",
              "1   https://cdn.sofifa.org/players/4/19/20801.png   \n",
              "2  https://cdn.sofifa.org/players/4/19/190871.png   \n",
              "3  https://cdn.sofifa.org/players/4/19/193080.png   \n",
              "4  https://cdn.sofifa.org/players/4/19/192985.png   \n",
              "\n",
              "                                      Club_Logo                 Club  \n",
              "0  https://cdn.sofifa.org/teams/2/light/241.png         FC Barcelona  \n",
              "1   https://cdn.sofifa.org/teams/2/light/45.png             Juventus  \n",
              "2   https://cdn.sofifa.org/teams/2/light/73.png  Paris Saint-Germain  \n",
              "3   https://cdn.sofifa.org/teams/2/light/11.png    Manchester United  \n",
              "4   https://cdn.sofifa.org/teams/2/light/10.png      Manchester City  "
            ],
            "text/html": [
              "\n",
              "  <div id=\"df-585ce948-9e10-4bda-9c03-682eeddb8f7c\">\n",
              "    <div class=\"colab-df-container\">\n",
              "      <div>\n",
              "<style scoped>\n",
              "    .dataframe tbody tr th:only-of-type {\n",
              "        vertical-align: middle;\n",
              "    }\n",
              "\n",
              "    .dataframe tbody tr th {\n",
              "        vertical-align: top;\n",
              "    }\n",
              "\n",
              "    .dataframe thead th {\n",
              "        text-align: right;\n",
              "    }\n",
              "</style>\n",
              "<table border=\"1\" class=\"dataframe\">\n",
              "  <thead>\n",
              "    <tr style=\"text-align: right;\">\n",
              "      <th></th>\n",
              "      <th>Name</th>\n",
              "      <th>Defending</th>\n",
              "      <th>General</th>\n",
              "      <th>Mental</th>\n",
              "      <th>Passing</th>\n",
              "      <th>Mobility</th>\n",
              "      <th>Power</th>\n",
              "      <th>Rating</th>\n",
              "      <th>Shooting</th>\n",
              "      <th>Flag</th>\n",
              "      <th>Age</th>\n",
              "      <th>Nationality</th>\n",
              "      <th>Photo</th>\n",
              "      <th>Club_Logo</th>\n",
              "      <th>Club</th>\n",
              "    </tr>\n",
              "  </thead>\n",
              "  <tbody>\n",
              "    <tr>\n",
              "      <th>0</th>\n",
              "      <td>L. Messi</td>\n",
              "      <td>29</td>\n",
              "      <td>89</td>\n",
              "      <td>71</td>\n",
              "      <td>87</td>\n",
              "      <td>91</td>\n",
              "      <td>74</td>\n",
              "      <td>94</td>\n",
              "      <td>88</td>\n",
              "      <td>https://cdn.sofifa.org/flags/52.png</td>\n",
              "      <td>31</td>\n",
              "      <td>Argentina</td>\n",
              "      <td>https://cdn.sofifa.org/players/4/19/158023.png</td>\n",
              "      <td>https://cdn.sofifa.org/teams/2/light/241.png</td>\n",
              "      <td>FC Barcelona</td>\n",
              "    </tr>\n",
              "    <tr>\n",
              "      <th>1</th>\n",
              "      <td>Cristiano Ronaldo</td>\n",
              "      <td>27</td>\n",
              "      <td>88</td>\n",
              "      <td>73</td>\n",
              "      <td>81</td>\n",
              "      <td>91</td>\n",
              "      <td>83</td>\n",
              "      <td>94</td>\n",
              "      <td>88</td>\n",
              "      <td>https://cdn.sofifa.org/flags/38.png</td>\n",
              "      <td>33</td>\n",
              "      <td>Portugal</td>\n",
              "      <td>https://cdn.sofifa.org/players/4/19/20801.png</td>\n",
              "      <td>https://cdn.sofifa.org/teams/2/light/45.png</td>\n",
              "      <td>Juventus</td>\n",
              "    </tr>\n",
              "    <tr>\n",
              "      <th>2</th>\n",
              "      <td>Neymar Jr</td>\n",
              "      <td>28</td>\n",
              "      <td>85</td>\n",
              "      <td>72</td>\n",
              "      <td>80</td>\n",
              "      <td>94</td>\n",
              "      <td>69</td>\n",
              "      <td>92</td>\n",
              "      <td>84</td>\n",
              "      <td>https://cdn.sofifa.org/flags/54.png</td>\n",
              "      <td>26</td>\n",
              "      <td>Brazil</td>\n",
              "      <td>https://cdn.sofifa.org/players/4/19/190871.png</td>\n",
              "      <td>https://cdn.sofifa.org/teams/2/light/73.png</td>\n",
              "      <td>Paris Saint-Germain</td>\n",
              "    </tr>\n",
              "    <tr>\n",
              "      <th>3</th>\n",
              "      <td>De Gea</td>\n",
              "      <td>16</td>\n",
              "      <td>26</td>\n",
              "      <td>43</td>\n",
              "      <td>39</td>\n",
              "      <td>66</td>\n",
              "      <td>54</td>\n",
              "      <td>92</td>\n",
              "      <td>21</td>\n",
              "      <td>https://cdn.sofifa.org/flags/45.png</td>\n",
              "      <td>27</td>\n",
              "      <td>Spain</td>\n",
              "      <td>https://cdn.sofifa.org/players/4/19/193080.png</td>\n",
              "      <td>https://cdn.sofifa.org/teams/2/light/11.png</td>\n",
              "      <td>Manchester United</td>\n",
              "    </tr>\n",
              "    <tr>\n",
              "      <th>4</th>\n",
              "      <td>K. De Bruyne</td>\n",
              "      <td>59</td>\n",
              "      <td>79</td>\n",
              "      <td>81</td>\n",
              "      <td>92</td>\n",
              "      <td>81</td>\n",
              "      <td>76</td>\n",
              "      <td>92</td>\n",
              "      <td>85</td>\n",
              "      <td>https://cdn.sofifa.org/flags/7.png</td>\n",
              "      <td>27</td>\n",
              "      <td>Belgium</td>\n",
              "      <td>https://cdn.sofifa.org/players/4/19/192985.png</td>\n",
              "      <td>https://cdn.sofifa.org/teams/2/light/10.png</td>\n",
              "      <td>Manchester City</td>\n",
              "    </tr>\n",
              "  </tbody>\n",
              "</table>\n",
              "</div>\n",
              "      <button class=\"colab-df-convert\" onclick=\"convertToInteractive('df-585ce948-9e10-4bda-9c03-682eeddb8f7c')\"\n",
              "              title=\"Convert this dataframe to an interactive table.\"\n",
              "              style=\"display:none;\">\n",
              "        \n",
              "  <svg xmlns=\"http://www.w3.org/2000/svg\" height=\"24px\"viewBox=\"0 0 24 24\"\n",
              "       width=\"24px\">\n",
              "    <path d=\"M0 0h24v24H0V0z\" fill=\"none\"/>\n",
              "    <path d=\"M18.56 5.44l.94 2.06.94-2.06 2.06-.94-2.06-.94-.94-2.06-.94 2.06-2.06.94zm-11 1L8.5 8.5l.94-2.06 2.06-.94-2.06-.94L8.5 2.5l-.94 2.06-2.06.94zm10 10l.94 2.06.94-2.06 2.06-.94-2.06-.94-.94-2.06-.94 2.06-2.06.94z\"/><path d=\"M17.41 7.96l-1.37-1.37c-.4-.4-.92-.59-1.43-.59-.52 0-1.04.2-1.43.59L10.3 9.45l-7.72 7.72c-.78.78-.78 2.05 0 2.83L4 21.41c.39.39.9.59 1.41.59.51 0 1.02-.2 1.41-.59l7.78-7.78 2.81-2.81c.8-.78.8-2.07 0-2.86zM5.41 20L4 18.59l7.72-7.72 1.47 1.35L5.41 20z\"/>\n",
              "  </svg>\n",
              "      </button>\n",
              "      \n",
              "  <style>\n",
              "    .colab-df-container {\n",
              "      display:flex;\n",
              "      flex-wrap:wrap;\n",
              "      gap: 12px;\n",
              "    }\n",
              "\n",
              "    .colab-df-convert {\n",
              "      background-color: #E8F0FE;\n",
              "      border: none;\n",
              "      border-radius: 50%;\n",
              "      cursor: pointer;\n",
              "      display: none;\n",
              "      fill: #1967D2;\n",
              "      height: 32px;\n",
              "      padding: 0 0 0 0;\n",
              "      width: 32px;\n",
              "    }\n",
              "\n",
              "    .colab-df-convert:hover {\n",
              "      background-color: #E2EBFA;\n",
              "      box-shadow: 0px 1px 2px rgba(60, 64, 67, 0.3), 0px 1px 3px 1px rgba(60, 64, 67, 0.15);\n",
              "      fill: #174EA6;\n",
              "    }\n",
              "\n",
              "    [theme=dark] .colab-df-convert {\n",
              "      background-color: #3B4455;\n",
              "      fill: #D2E3FC;\n",
              "    }\n",
              "\n",
              "    [theme=dark] .colab-df-convert:hover {\n",
              "      background-color: #434B5C;\n",
              "      box-shadow: 0px 1px 3px 1px rgba(0, 0, 0, 0.15);\n",
              "      filter: drop-shadow(0px 1px 2px rgba(0, 0, 0, 0.3));\n",
              "      fill: #FFFFFF;\n",
              "    }\n",
              "  </style>\n",
              "\n",
              "      <script>\n",
              "        const buttonEl =\n",
              "          document.querySelector('#df-585ce948-9e10-4bda-9c03-682eeddb8f7c button.colab-df-convert');\n",
              "        buttonEl.style.display =\n",
              "          google.colab.kernel.accessAllowed ? 'block' : 'none';\n",
              "\n",
              "        async function convertToInteractive(key) {\n",
              "          const element = document.querySelector('#df-585ce948-9e10-4bda-9c03-682eeddb8f7c');\n",
              "          const dataTable =\n",
              "            await google.colab.kernel.invokeFunction('convertToInteractive',\n",
              "                                                     [key], {});\n",
              "          if (!dataTable) return;\n",
              "\n",
              "          const docLinkHtml = 'Like what you see? Visit the ' +\n",
              "            '<a target=\"_blank\" href=https://colab.research.google.com/notebooks/data_table.ipynb>data table notebook</a>'\n",
              "            + ' to learn more about interactive tables.';\n",
              "          element.innerHTML = '';\n",
              "          dataTable['output_type'] = 'display_data';\n",
              "          await google.colab.output.renderOutput(dataTable, element);\n",
              "          const docLink = document.createElement('div');\n",
              "          docLink.innerHTML = docLinkHtml;\n",
              "          element.appendChild(docLink);\n",
              "        }\n",
              "      </script>\n",
              "    </div>\n",
              "  </div>\n",
              "  "
            ]
          },
          "metadata": {},
          "execution_count": 14
        }
      ]
    },
    {
      "cell_type": "markdown",
      "source": [
        "## Data Visualization"
      ],
      "metadata": {
        "id": "AgV7YGQwn_A-"
      }
    },
    {
      "cell_type": "markdown",
      "source": [
        "### Comparison of preferred foot over the different players"
      ],
      "metadata": {
        "id": "aULYXy61oERP"
      }
    },
    {
      "cell_type": "code",
      "source": [
        "sns.countplot(df['Preferred Foot'], palette = 'pink')\n",
        "plt.title('Most Preferred Foot of the Players', fontsize = 20)\n",
        "plt.show()"
      ],
      "metadata": {
        "colab": {
          "base_uri": "https://localhost:8080/",
          "height": 355
        },
        "id": "qyPenlQUoDnv",
        "outputId": "184abf55-bb62-40bc-f69f-0d196bc297f9"
      },
      "execution_count": 15,
      "outputs": [
        {
          "output_type": "stream",
          "name": "stderr",
          "text": [
            "/usr/local/lib/python3.8/dist-packages/seaborn/_decorators.py:36: FutureWarning: Pass the following variable as a keyword arg: x. From version 0.12, the only valid positional argument will be `data`, and passing other arguments without an explicit keyword will result in an error or misinterpretation.\n",
            "  warnings.warn(\n"
          ]
        },
        {
          "output_type": "display_data",
          "data": {
            "text/plain": [
              "<Figure size 432x288 with 1 Axes>"
            ],
            "image/png": "[encoded data removed]"
          },
          "metadata": {
            "needs_background": "light"
          }
        }
      ]
    },
    {
      "cell_type": "markdown",
      "source": [
        "## international reputation"
      ],
      "metadata": {
        "id": "84vOrj7ApbzA"
      }
    },
    {
      "cell_type": "code",
      "source": [
        "labels=['1','2','3','4','5']\n",
        "explode = [0.1, 0.1, 0.2, 0.5, 0.9]\n",
        "plt.rcParams['figure.figsize'] = (9, 9)\n",
        "sizes = df['International Reputation'].value_counts()\n",
        "plt.pie(sizes, labels=labels, explode=explode)\n",
        "plt.title('International Repuatation for the Football Players')"
      ],
      "metadata": {
        "colab": {
          "base_uri": "https://localhost:8080/",
          "height": 553
        },
        "id": "M3Q1VANtkxuD",
        "outputId": "8c7d962f-7dec-46eb-ec5c-5052a00344f2"
      },
      "execution_count": 16,
      "outputs": [
        {
          "output_type": "execute_result",
          "data": {
            "text/plain": [
              "Text(0.5, 1.0, 'International Repuatation for the Football Players')"
            ]
          },
          "metadata": {},
          "execution_count": 16
        },
        {
          "output_type": "display_data",
          "data": {
            "text/plain": [
              "<Figure size 648x648 with 1 Axes>"
            ],
            "image/png": "[encoded data removed]"
          },
          "metadata": {}
        }
      ]
    },
    {
      "cell_type": "markdown",
      "source": [
        "## Different positions acquired by the players "
      ],
      "metadata": {
        "id": "qE3V57dnrI0Q"
      }
    },
    {
      "cell_type": "code",
      "source": [
        "plt.figure(figsize = (18, 8))\n",
        "ax = sns.countplot('Position', data = df, palette = 'bone')\n",
        "ax.set_xlabel(xlabel = 'Different Positions in Football', fontsize = 16)\n",
        "ax.set_ylabel(ylabel = 'Count of Players', fontsize = 16)\n",
        "ax.set_title(label = 'Comparison of Positions and Players', fontsize = 20)"
      ],
      "metadata": {
        "colab": {
          "base_uri": "https://localhost:8080/",
          "height": 595
        },
        "id": "0e8xVloTptTS",
        "outputId": "b388e9de-7ad8-4c03-af79-7747c27f757b"
      },
      "execution_count": 17,
      "outputs": [
        {
          "output_type": "stream",
          "name": "stderr",
          "text": [
            "/usr/local/lib/python3.8/dist-packages/seaborn/_decorators.py:36: FutureWarning: Pass the following variable as a keyword arg: x. From version 0.12, the only valid positional argument will be `data`, and passing other arguments without an explicit keyword will result in an error or misinterpretation.\n",
            "  warnings.warn(\n"
          ]
        },
        {
          "output_type": "execute_result",
          "data": {
            "text/plain": [
              "Text(0.5, 1.0, 'Comparison of Positions and Players')"
            ]
          },
          "metadata": {},
          "execution_count": 17
        },
        {
          "output_type": "display_data",
          "data": {
            "text/plain": [
              "<Figure size 1296x576 with 1 Axes>"
            ],
            "image/png": "[encoded data removed]"
          },
          "metadata": {
            "needs_background": "light"
          }
        }
      ]
    },
    {
      "cell_type": "code",
      "source": [
        "df['Weight']"
      ],
      "metadata": {
        "colab": {
          "base_uri": "https://localhost:8080/"
        },
        "id": "N5n1yb8QrQ__",
        "outputId": "0a5e9c52-248a-4206-a9ec-a6695e9fcc27"
      },
      "execution_count": 18,
      "outputs": [
        {
          "output_type": "execute_result",
          "data": {
            "text/plain": [
              "0        159lbs\n",
              "1        183lbs\n",
              "2        150lbs\n",
              "3        168lbs\n",
              "4        154lbs\n",
              "          ...  \n",
              "18202    134lbs\n",
              "18203    170lbs\n",
              "18204    148lbs\n",
              "18205    154lbs\n",
              "18206    176lbs\n",
              "Name: Weight, Length: 18207, dtype: object"
            ]
          },
          "metadata": {},
          "execution_count": 18
        }
      ]
    },
    {
      "cell_type": "markdown",
      "source": [
        "## function for cleaning the Weight data"
      ],
      "metadata": {
        "id": "t7neGr3BsPbn"
      }
    },
    {
      "cell_type": "code",
      "source": [
        "def extract_value_from(value):\n",
        "  out = value.replace('lbs', '')\n",
        "  return float(out)\n",
        "\n",
        "# applying the function to weight column\n",
        "#data['value'] = data['value'].apply(lambda x: extract_value_from(x))\n",
        "df['Weight'] = df['Weight'].apply(lambda x : extract_value_from(x))"
      ],
      "metadata": {
        "id": "LtjC0w-nrsgw"
      },
      "execution_count": 19,
      "outputs": []
    },
    {
      "cell_type": "code",
      "source": [
        "df['Weight'].head()"
      ],
      "metadata": {
        "colab": {
          "base_uri": "https://localhost:8080/"
        },
        "id": "ux30o7eGsaLU",
        "outputId": "348962a4-a322-444e-b842-bb785c9dcee7"
      },
      "execution_count": 20,
      "outputs": [
        {
          "output_type": "execute_result",
          "data": {
            "text/plain": [
              "0    159.0\n",
              "1    183.0\n",
              "2    150.0\n",
              "3    168.0\n",
              "4    154.0\n",
              "Name: Weight, dtype: float64"
            ]
          },
          "metadata": {},
          "execution_count": 20
        }
      ]
    },
    {
      "cell_type": "code",
      "source": [
        "df['Wage']"
      ],
      "metadata": {
        "colab": {
          "base_uri": "https://localhost:8080/"
        },
        "id": "xQM_ALGDvVpO",
        "outputId": "8a09e181-0b4c-49c7-e975-141812d2849c"
      },
      "execution_count": 21,
      "outputs": [
        {
          "output_type": "execute_result",
          "data": {
            "text/plain": [
              "0        €565K\n",
              "1        €405K\n",
              "2        €290K\n",
              "3        €260K\n",
              "4        €355K\n",
              "         ...  \n",
              "18202      €1K\n",
              "18203      €1K\n",
              "18204      €1K\n",
              "18205      €1K\n",
              "18206      €1K\n",
              "Name: Wage, Length: 18207, dtype: object"
            ]
          },
          "metadata": {},
          "execution_count": 21
        }
      ]
    },
    {
      "cell_type": "code",
      "source": [
        "df['Value']"
      ],
      "metadata": {
        "colab": {
          "base_uri": "https://localhost:8080/"
        },
        "id": "QasVL7_YwQH2",
        "outputId": "3e0e8191-ff94-42b3-f338-6690e1725d58"
      },
      "execution_count": 22,
      "outputs": [
        {
          "output_type": "execute_result",
          "data": {
            "text/plain": [
              "0        €110.5M\n",
              "1           €77M\n",
              "2        €118.5M\n",
              "3           €72M\n",
              "4          €102M\n",
              "          ...   \n",
              "18202       €60K\n",
              "18203       €60K\n",
              "18204       €60K\n",
              "18205       €60K\n",
              "18206       €60K\n",
              "Name: Value, Length: 18207, dtype: object"
            ]
          },
          "metadata": {},
          "execution_count": 22
        }
      ]
    },
    {
      "cell_type": "markdown",
      "source": [
        "## function for cleaning the wage column"
      ],
      "metadata": {
        "id": "szSy7IjyvKWe"
      }
    },
    {
      "cell_type": "code",
      "source": [
        "def extract_value_from(Value):\n",
        "    out = Value.replace('€', '')\n",
        "    if 'M' in out:\n",
        "        out = float(out.replace('M', ''))*1000000\n",
        "    elif 'K' in Value:\n",
        "        out = float(out.replace('K', ''))*1000\n",
        "    return float(out)"
      ],
      "metadata": {
        "id": "nfD-qN7GscR7"
      },
      "execution_count": 23,
      "outputs": []
    },
    {
      "cell_type": "code",
      "source": [
        "df['Value'] = df['Value'].apply(lambda x: extract_value_from(x))\n",
        "df['Wage'] = df['Wage'].apply(lambda x: extract_value_from(x))"
      ],
      "metadata": {
        "id": "s20uSurlvTfY"
      },
      "execution_count": 24,
      "outputs": []
    },
    {
      "cell_type": "code",
      "source": [
        "df['Wage'].head()"
      ],
      "metadata": {
        "colab": {
          "base_uri": "https://localhost:8080/"
        },
        "id": "oUXZb2VnwX_n",
        "outputId": "a04dec16-2c39-4475-e256-3de4fbac15ca"
      },
      "execution_count": 25,
      "outputs": [
        {
          "output_type": "execute_result",
          "data": {
            "text/plain": [
              "0    565000.0\n",
              "1    405000.0\n",
              "2    290000.0\n",
              "3    260000.0\n",
              "4    355000.0\n",
              "Name: Wage, dtype: float64"
            ]
          },
          "metadata": {},
          "execution_count": 25
        }
      ]
    },
    {
      "cell_type": "code",
      "source": [
        "df['Value'].head()"
      ],
      "metadata": {
        "colab": {
          "base_uri": "https://localhost:8080/"
        },
        "id": "hZ812T9Owazq",
        "outputId": "4ba6db54-0b2b-4678-d2ed-3c67fab5ddea"
      },
      "execution_count": 26,
      "outputs": [
        {
          "output_type": "execute_result",
          "data": {
            "text/plain": [
              "0    110500000.0\n",
              "1     77000000.0\n",
              "2    118500000.0\n",
              "3     72000000.0\n",
              "4    102000000.0\n",
              "Name: Value, dtype: float64"
            ]
          },
          "metadata": {},
          "execution_count": 26
        }
      ]
    },
    {
      "cell_type": "markdown",
      "source": [
        "## Comparing the players’ Wages"
      ],
      "metadata": {
        "id": "xpH9pyvdwfKl"
      }
    },
    {
      "cell_type": "code",
      "source": [
        "plt.rcParams['figure.figsize'] = (15, 5)\n",
        "sns.distplot(df['Wage'], color = 'blue')\n",
        "plt.xlabel('Wage Range for Players', fontsize = 16)\n",
        "plt.ylabel('Count of the Players', fontsize = 16)\n",
        "plt.title('Distribution of Wages of Players', fontsize = 20)"
      ],
      "metadata": {
        "colab": {
          "base_uri": "https://localhost:8080/",
          "height": 432
        },
        "id": "PMIGTGfbwcxN",
        "outputId": "a4b5f52e-0a10-48e2-c07a-69397c187409"
      },
      "execution_count": 27,
      "outputs": [
        {
          "output_type": "stream",
          "name": "stderr",
          "text": [
            "/usr/local/lib/python3.8/dist-packages/seaborn/distributions.py:2619: FutureWarning: `distplot` is a deprecated function and will be removed in a future version. Please adapt your code to use either `displot` (a figure-level function with similar flexibility) or `histplot` (an axes-level function for histograms).\n",
            "  warnings.warn(msg, FutureWarning)\n"
          ]
        },
        {
          "output_type": "execute_result",
          "data": {
            "text/plain": [
              "Text(0.5, 1.0, 'Distribution of Wages of Players')"
            ]
          },
          "metadata": {},
          "execution_count": 27
        },
        {
          "output_type": "display_data",
          "data": {
            "text/plain": [
              "<Figure size 1080x360 with 1 Axes>"
            ],
            "image/png": "[encoded data removed]"
          },
          "metadata": {
            "needs_background": "light"
          }
        }
      ]
    },
    {
      "cell_type": "markdown",
      "source": [
        "## Skill moves of the players"
      ],
      "metadata": {
        "id": "FpcXQHVv0HGM"
      }
    },
    {
      "cell_type": "code",
      "source": [
        "plt.figure(figsize=(15,10))\n",
        "ax=sns.countplot(x=df['Skill Moves'],data=df)\n",
        "ax.set_title(\"Count of players based on their skill moves rating\")\n",
        "ax.set_xlabel(\"Skill moves rating\")\n",
        "ax.set_ylabel(\"Count of Players\")\n",
        "plt.show()"
      ],
      "metadata": {
        "colab": {
          "base_uri": "https://localhost:8080/",
          "height": 621
        },
        "id": "dua7pXs2w2x8",
        "outputId": "212d4874-75d3-44d5-ffc8-83296c5cb49e"
      },
      "execution_count": 28,
      "outputs": [
        {
          "output_type": "display_data",
          "data": {
            "text/plain": [
              "<Figure size 1080x720 with 1 Axes>"
            ],
            "image/png": "[encoded data removed]"
          },
          "metadata": {
            "needs_background": "light"
          }
        }
      ]
    },
    {
      "cell_type": "markdown",
      "source": [
        "## Height of Players"
      ],
      "metadata": {
        "id": "GEafNWgA1MgD"
      }
    },
    {
      "cell_type": "code",
      "source": [
        "plt.figure(figsize = (13, 8))\n",
        "ax = sns.countplot(x = 'Height', data = df)\n",
        "ax.set_title(label = 'Count of players on Basis of Height')\n",
        "ax.set_xlabel(xlabel = 'Height in Foot per inch')\n",
        "ax.set_ylabel(ylabel = 'Count')\n",
        "plt.show()"
      ],
      "metadata": {
        "colab": {
          "base_uri": "https://localhost:8080/",
          "height": 513
        },
        "id": "6NXryfS00YRy",
        "outputId": "8eb721ca-c798-4207-c38b-6b6a00cb202b"
      },
      "execution_count": 29,
      "outputs": [
        {
          "output_type": "display_data",
          "data": {
            "text/plain": [
              "<Figure size 936x576 with 1 Axes>"
            ],
            "image/png": "[encoded data removed]"
          },
          "metadata": {
            "needs_background": "light"
          }
        }
      ]
    },
    {
      "cell_type": "markdown",
      "source": [
        "###  Different body weight of the players participating in the FIFA 2019"
      ],
      "metadata": {
        "id": "sF0yguAq2haJ"
      }
    },
    {
      "cell_type": "code",
      "source": [
        "sns.distplot(df['Weight'])\n",
        "plt.title('Different Weights of the Players Participating in FIFA 2019')\n",
        "plt.xlabel('Heights associated with the players')\n",
        "plt.ylabel('count of Players')"
      ],
      "metadata": {
        "colab": {
          "base_uri": "https://localhost:8080/",
          "height": 422
        },
        "id": "ELRKy0hK1ZgQ",
        "outputId": "91b643bd-7ac0-4ab8-c876-cdf9dd4840a3"
      },
      "execution_count": 30,
      "outputs": [
        {
          "output_type": "stream",
          "name": "stderr",
          "text": [
            "/usr/local/lib/python3.8/dist-packages/seaborn/distributions.py:2619: FutureWarning: `distplot` is a deprecated function and will be removed in a future version. Please adapt your code to use either `displot` (a figure-level function with similar flexibility) or `histplot` (an axes-level function for histograms).\n",
            "  warnings.warn(msg, FutureWarning)\n"
          ]
        },
        {
          "output_type": "execute_result",
          "data": {
            "text/plain": [
              "Text(0, 0.5, 'count of Players')"
            ]
          },
          "metadata": {},
          "execution_count": 30
        },
        {
          "output_type": "display_data",
          "data": {
            "text/plain": [
              "<Figure size 1080x360 with 1 Axes>"
            ],
            "image/png": "[encoded data removed]"
          },
          "metadata": {
            "needs_background": "light"
          }
        }
      ]
    },
    {
      "cell_type": "markdown",
      "source": [
        "## Work Rate of Players in FIFA 2019"
      ],
      "metadata": {
        "id": "x5A3UJer2-85"
      }
    },
    {
      "cell_type": "code",
      "source": [
        "sns.countplot(x = 'Work Rate', data = df)\n",
        "plt.title('Different work rates of the Players Participating in the FIFA 2019')\n",
        "plt.xlabel('Work rates associated with the players')\n",
        "plt.ylabel('count of Players')"
      ],
      "metadata": {
        "colab": {
          "base_uri": "https://localhost:8080/",
          "height": 367
        },
        "id": "puCmNrZ_2rCU",
        "outputId": "f1a5a3dd-2db3-4c48-dd70-afd66d34d488"
      },
      "execution_count": 31,
      "outputs": [
        {
          "output_type": "execute_result",
          "data": {
            "text/plain": [
              "Text(0, 0.5, 'count of Players')"
            ]
          },
          "metadata": {},
          "execution_count": 31
        },
        {
          "output_type": "display_data",
          "data": {
            "text/plain": [
              "<Figure size 1080x360 with 1 Axes>"
            ],
            "image/png": "[encoded data removed]"
          },
          "metadata": {
            "needs_background": "light"
          }
        }
      ]
    },
    {
      "cell_type": "markdown",
      "source": [
        "## Different Speciality Score of the players participating in the FIFA 2019"
      ],
      "metadata": {
        "id": "n6S-SmEPgZQW"
      }
    },
    {
      "cell_type": "code",
      "source": [
        "x = df['Special']\n",
        "plt.figure(figsize = (12, 8))\n",
        "ax = sns.distplot(x)\n",
        "ax.set_xlabel(xlabel = 'Special score range', fontsize = 16)\n",
        "ax.set_ylabel(ylabel = 'Count of the Players',fontsize = 16)\n",
        "ax.set_title(label = 'Histogram for the Speciality Scores of the Players')"
      ],
      "metadata": {
        "id": "zvsHfJkI3cla",
        "colab": {
          "base_uri": "https://localhost:8080/",
          "height": 590
        },
        "outputId": "750a1b41-1d8e-47ff-c383-05f061575eec"
      },
      "execution_count": 33,
      "outputs": [
        {
          "output_type": "stream",
          "name": "stderr",
          "text": [
            "/usr/local/lib/python3.8/dist-packages/seaborn/distributions.py:2619: FutureWarning: `distplot` is a deprecated function and will be removed in a future version. Please adapt your code to use either `displot` (a figure-level function with similar flexibility) or `histplot` (an axes-level function for histograms).\n",
            "  warnings.warn(msg, FutureWarning)\n"
          ]
        },
        {
          "output_type": "execute_result",
          "data": {
            "text/plain": [
              "Text(0.5, 1.0, 'Histogram for the Speciality Scores of the Players')"
            ]
          },
          "metadata": {},
          "execution_count": 33
        },
        {
          "output_type": "display_data",
          "data": {
            "text/plain": [
              "<Figure size 864x576 with 1 Axes>"
            ],
            "image/png": "[encoded data removed]"
          },
          "metadata": {
            "needs_background": "light"
          }
        }
      ]
    },
    {
      "cell_type": "markdown",
      "source": [
        "## Different potential scores of the players participating in the FIFA 2019\n",
        "\n"
      ],
      "metadata": {
        "id": "0RTqV5OGg-Wy"
      }
    },
    {
      "cell_type": "code",
      "source": [
        "x = df['Potential']\n",
        "plt.figure(figsize=(12,8))\n",
        "ax = sns.distplot(x)\n",
        "ax.set_xlabel(xlabel = \"Player's Potential Scores\")\n",
        "ax.set_ylabel(ylabel = 'Number of players')\n",
        "ax.set_title(label = 'Histogram of players Potential Scores')"
      ],
      "metadata": {
        "colab": {
          "base_uri": "https://localhost:8080/",
          "height": 585
        },
        "id": "yyXKpbcpgwtj",
        "outputId": "b8256f16-4211-43dc-a0e5-c609e72dd11f"
      },
      "execution_count": 34,
      "outputs": [
        {
          "output_type": "stream",
          "name": "stderr",
          "text": [
            "/usr/local/lib/python3.8/dist-packages/seaborn/distributions.py:2619: FutureWarning: `distplot` is a deprecated function and will be removed in a future version. Please adapt your code to use either `displot` (a figure-level function with similar flexibility) or `histplot` (an axes-level function for histograms).\n",
            "  warnings.warn(msg, FutureWarning)\n"
          ]
        },
        {
          "output_type": "execute_result",
          "data": {
            "text/plain": [
              "Text(0.5, 1.0, 'Histogram of players Potential Scores')"
            ]
          },
          "metadata": {},
          "execution_count": 34
        },
        {
          "output_type": "display_data",
          "data": {
            "text/plain": [
              "<Figure size 864x576 with 1 Axes>"
            ],
            "image/png": "[encoded data removed]"
          },
          "metadata": {
            "needs_background": "light"
          }
        }
      ]
    },
    {
      "cell_type": "markdown",
      "source": [
        "## Different nations participating in the FIFA 2019"
      ],
      "metadata": {
        "id": "YEzfUoLYh4L1"
      }
    },
    {
      "cell_type": "code",
      "source": [
        "df['Nationality'].value_counts().head(80).plot.bar(color = 'orange', figsize = (20, 7))\n",
        "plt.title('Different Nations Participating in FIFA 2019', fontsize = 30, fontweight = 20)\n",
        "plt.xlabel('Name of The Country')\n",
        "plt.ylabel('count')"
      ],
      "metadata": {
        "colab": {
          "base_uri": "https://localhost:8080/",
          "height": 549
        },
        "id": "OTsWqgkxhqGQ",
        "outputId": "f07c95b3-d649-4326-96d6-2fe7235dfb2d"
      },
      "execution_count": 35,
      "outputs": [
        {
          "output_type": "execute_result",
          "data": {
            "text/plain": [
              "Text(0, 0.5, 'count')"
            ]
          },
          "metadata": {},
          "execution_count": 35
        },
        {
          "output_type": "display_data",
          "data": {
            "text/plain": [
              "<Figure size 1440x504 with 1 Axes>"
            ],
            "image/png": "[encoded data removed]"
          },
          "metadata": {
            "needs_background": "light"
          }
        }
      ]
    },
    {
      "cell_type": "markdown",
      "source": [
        "## Countries with Most Players\n"
      ],
      "metadata": {
        "id": "sZ_QDktjla_L"
      }
    },
    {
      "cell_type": "code",
      "source": [
        "df['Nationality'].value_counts().head(10)"
      ],
      "metadata": {
        "colab": {
          "base_uri": "https://localhost:8080/"
        },
        "id": "3E_ByTIplHpx",
        "outputId": "02aed8e4-85be-48dc-832b-844ccb562b52"
      },
      "execution_count": 36,
      "outputs": [
        {
          "output_type": "execute_result",
          "data": {
            "text/plain": [
              "England        1662\n",
              "Germany        1198\n",
              "Spain          1072\n",
              "Argentina       937\n",
              "France          914\n",
              "Brazil          827\n",
              "Italy           702\n",
              "Colombia        618\n",
              "Japan           478\n",
              "Netherlands     453\n",
              "Name: Nationality, dtype: int64"
            ]
          },
          "metadata": {},
          "execution_count": 36
        }
      ]
    },
    {
      "cell_type": "markdown",
      "source": [
        "## Every Nations’ Player and their Weights\n",
        "\n"
      ],
      "metadata": {
        "id": "73XqTPt7mJKR"
      }
    },
    {
      "cell_type": "code",
      "source": [
        "some_countries = ('England', 'Germany', 'Spain', 'Argentina', 'France', 'Brazil', 'Italy', 'Columbia')\n",
        "data_countries = df.loc[df['Nationality'].isin(some_countries) & df['Weight']]\n",
        "\n",
        "plt.rcParams['figure.figsize'] = (15, 7)\n",
        "ax = sns.violinplot(x = data_countries['Nationality'], y = data_countries['Weight'])\n",
        "ax.set_xlabel(xlabel = 'Countries')\n",
        "ax.set_ylabel(ylabel = 'Weight in lbs')\n",
        "ax.set_title(label = 'Distribution of Weight of players from different countries')\n",
        "plt.show()"
      ],
      "metadata": {
        "colab": {
          "base_uri": "https://localhost:8080/",
          "height": 458
        },
        "id": "n6mENOSDljVY",
        "outputId": "1ed8512c-609c-4be7-db97-765b38af7751"
      },
      "execution_count": 37,
      "outputs": [
        {
          "output_type": "display_data",
          "data": {
            "text/plain": [
              "<Figure size 1080x504 with 1 Axes>"
            ],
            "image/png": "[encoded data removed]"
          },
          "metadata": {
            "needs_background": "light"
          }
        }
      ]
    },
    {
      "cell_type": "markdown",
      "source": [
        "## Finding the the popular clubs around the globe\n"
      ],
      "metadata": {
        "id": "QfoDXRKGnvKP"
      }
    },
    {
      "cell_type": "code",
      "source": [
        "df['Club'].value_counts().head(10)"
      ],
      "metadata": {
        "colab": {
          "base_uri": "https://localhost:8080/"
        },
        "id": "V8901NW8nqT-",
        "outputId": "79bc1f05-e664-4bfb-929b-a3ebf90aaf72"
      },
      "execution_count": 38,
      "outputs": [
        {
          "output_type": "execute_result",
          "data": {
            "text/plain": [
              "No Club                    241\n",
              "FC Barcelona                33\n",
              "Burnley                     33\n",
              "AS Monaco                   33\n",
              "Everton                     33\n",
              "TSG 1899 Hoffenheim         33\n",
              "Wolverhampton Wanderers     33\n",
              "Eintracht Frankfurt         33\n",
              "Southampton                 33\n",
              "Valencia CF                 33\n",
              "Name: Club, dtype: int64"
            ]
          },
          "metadata": {},
          "execution_count": 38
        }
      ]
    },
    {
      "cell_type": "code",
      "source": [
        "some_clubs = ('CD Leganés', 'Southampton', 'RC Celta', 'Empoli', 'Fortuna Düsseldorf', 'Manchestar United',\n",
        "             'Tottenham Hotspur', 'FC Barcelona', 'Valencia CF', 'Chelsea', 'Real Madrid')\n",
        "\n",
        "data_clubs = df.loc[df['Club'].isin(some_clubs) & df['Overall']]\n",
        "\n",
        "plt.rcParams['figure.figsize'] = (15, 8)\n",
        "ax = sns.boxplot(x = data_clubs['Club'], y = data_clubs['Overall'])\n",
        "ax.set_xlabel(xlabel = 'Some Popular Clubs')\n",
        "ax.set_ylabel(ylabel = 'Overall Score')\n",
        "ax.set_title(label = 'Distribution of Overall Score in Different popular Clubs', fontsize = 20)\n",
        "plt.xticks(rotation = 90)\n",
        "plt.show()"
      ],
      "metadata": {
        "colab": {
          "base_uri": "https://localhost:8080/",
          "height": 603
        },
        "id": "rT_ItnLDprM4",
        "outputId": "684cd7c3-5a75-401f-f246-7bd99f6af5bb"
      },
      "execution_count": 41,
      "outputs": [
        {
          "output_type": "display_data",
          "data": {
            "text/plain": [
              "<Figure size 1080x576 with 1 Axes>"
            ],
            "image/png": "[encoded data removed]"
          },
          "metadata": {
            "needs_background": "light"
          }
        }
      ]
    },
    {
      "cell_type": "markdown",
      "source": [
        "## Distribution of Wages in some Popular clubs\n",
        "\n"
      ],
      "metadata": {
        "id": "Dn-Yf4hjqTJy"
      }
    },
    {
      "cell_type": "code",
      "source": [
        "some_clubs = ('CD Leganés', 'Southampton', 'RC Celta', 'Empoli', 'Fortuna Düsseldorf', 'Manchestar United',\n",
        "             'Tottenham Hotspur', 'FC Barcelona', 'Valencia CF', 'Chelsea', 'Real Madrid')\n",
        "\n",
        "data_club = df.loc[df['Club'].isin(some_clubs) & df['Wage']]\n",
        "\n",
        "plt.rcParams['figure.figsize'] = (16, 8)\n",
        "ax = sns.boxplot(x = 'Club', y = 'Wage', data = data_club, palette = 'Reds')\n",
        "ax.set_xlabel(xlabel = 'Names of some popular Clubs', fontsize = 10)\n",
        "ax.set_ylabel(ylabel = 'Distribution', fontsize = 10)\n",
        "ax.set_title(label = 'Disstribution of Wages in some Popular Clubs', fontsize = 20)\n",
        "plt.xticks(rotation = 90)\n",
        "plt.show()"
      ],
      "metadata": {
        "colab": {
          "base_uri": "https://localhost:8080/",
          "height": 603
        },
        "id": "Sp3jBXscp0xT",
        "outputId": "d2374df2-804b-443e-87c8-d72887195ded"
      },
      "execution_count": 42,
      "outputs": [
        {
          "output_type": "display_data",
          "data": {
            "text/plain": [
              "<Figure size 1152x576 with 1 Axes>"
            ],
            "image/png": "[encoded data removed]"
          },
          "metadata": {
            "needs_background": "light"
          }
        }
      ]
    },
    {
      "cell_type": "markdown",
      "source": [
        "## Comparing the performance of left-footed and right-footed footballers\n"
      ],
      "metadata": {
        "id": "ATDT6599qrrG"
      }
    },
    {
      "cell_type": "code",
      "source": [
        "sns.lmplot(x = 'BallControl', y = 'Dribbling', data = df, col = 'Preferred Foot')\n",
        "plt.show()"
      ],
      "metadata": {
        "colab": {
          "base_uri": "https://localhost:8080/",
          "height": 369
        },
        "id": "oMeBpzVFqmz_",
        "outputId": "9c26b372-3aa5-4a96-842d-8e6c497d790a"
      },
      "execution_count": 44,
      "outputs": [
        {
          "output_type": "display_data",
          "data": {
            "text/plain": [
              "<Figure size 720x360 with 2 Axes>"
            ],
            "image/png": "[encoded data removed]"
          },
          "metadata": {
            "needs_background": "light"
          }
        }
      ]
    },
    {
      "cell_type": "code",
      "source": [],
      "metadata": {
        "id": "c5Nbj6OXquxg"
      },
      "execution_count": null,
      "outputs": []
    }
  ]
}